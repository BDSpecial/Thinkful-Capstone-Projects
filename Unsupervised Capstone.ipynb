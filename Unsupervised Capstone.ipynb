{
 "cells": [
  {
   "cell_type": "markdown",
   "metadata": {},
   "source": [
    "# Unsupervised Capstone: Classifying Authors\n",
    "### By Carley Fletcher"
   ]
  },
  {
   "cell_type": "markdown",
   "metadata": {},
   "source": [
    "My Unsupervised Capstone project is working to classify authors by their texts using natural language processing."
   ]
  },
  {
   "cell_type": "code",
   "execution_count": 1,
   "metadata": {},
   "outputs": [],
   "source": [
    "import pandas as pd\n",
    "import numpy as np\n",
    "import matplotlib.pyplot as plt\n",
    "import scipy as sp\n",
    "import seaborn as sns\n",
    "import re\n",
    "import csv\n",
    "from scipy import stats, integrate\n",
    "%matplotlib inline\n",
    "\n",
    "from nltk.corpus import gutenberg, stopwords\n",
    "from sklearn import ensemble\n",
    "from sklearn.model_selection import cross_val_score\n",
    "from sklearn.model_selection import train_test_split\n",
    "from sklearn.feature_extraction.text import TfidfVectorizer\n",
    "from sklearn.decomposition import TruncatedSVD\n",
    "from sklearn.pipeline import make_pipeline\n",
    "from sklearn.preprocessing import Normalizer\n",
    "from sklearn.preprocessing import normalize\n",
    "from sklearn.preprocessing import LabelEncoder\n",
    "from sklearn.cluster import KMeans\n",
    "from sklearn.cluster import MeanShift, estimate_bandwidth\n",
    "from sklearn.metrics import classification_report\n",
    "from sklearn.metrics import confusion_matrix\n",
    "from sklearn.linear_model import LogisticRegression"
   ]
  },
  {
   "cell_type": "markdown",
   "metadata": {},
   "source": [
    "### Loading the Dataset\n",
    "\n",
    "For this capstone I picking a set of texts from 10 different authors that had a least 100 datapoints for each author. I chose 10 authors from the Gutenberg corpus. Each of these authors is a well know classic and their books were either novels or poetry."
   ]
  },
  {
   "cell_type": "code",
   "execution_count": 2,
   "metadata": {
    "scrolled": true
   },
   "outputs": [
    {
     "name": "stdout",
     "output_type": "stream",
     "text": [
      "['austen-emma.txt', 'austen-persuasion.txt', 'austen-sense.txt', 'bible-kjv.txt', 'blake-poems.txt', 'bryant-stories.txt', 'burgess-busterbrown.txt', 'carroll-alice.txt', 'chesterton-ball.txt', 'chesterton-brown.txt', 'chesterton-thursday.txt', 'edgeworth-parents.txt', 'melville-moby_dick.txt', 'milton-paradise.txt', 'shakespeare-caesar.txt', 'shakespeare-hamlet.txt', 'shakespeare-macbeth.txt', 'whitman-leaves.txt']\n"
     ]
    }
   ],
   "source": [
    "print(gutenberg.fileids())"
   ]
  },
  {
   "cell_type": "code",
   "execution_count": 3,
   "metadata": {},
   "outputs": [],
   "source": [
    "# Load the books and reading in the data, this time in the form of paragraphs\n",
    "austen = gutenberg.paras('austen-persuasion.txt')\n",
    "blake = gutenberg.paras('blake-poems.txt')\n",
    "bryant = gutenberg.paras('bryant-stories.txt')\n",
    "burgess = gutenberg.paras('burgess-busterbrown.txt')\n",
    "carroll = gutenberg.paras('carroll-alice.txt')\n",
    "chesterton = gutenberg.paras('chesterton-ball.txt')\n",
    "edgeworth = gutenberg.paras('edgeworth-parents.txt')\n",
    "melville = gutenberg.paras('melville-moby_dick.txt')\n",
    "milton = gutenberg.paras('milton-paradise.txt')\n",
    "whitman = gutenberg.paras('whitman-leaves.txt')"
   ]
  },
  {
   "cell_type": "code",
   "execution_count": 4,
   "metadata": {},
   "outputs": [],
   "source": [
    "book_list = [edgeworth, melville, whitman, chesterton, bryant, austen, carroll, blake, burgess, milton]"
   ]
  },
  {
   "cell_type": "markdown",
   "metadata": {},
   "source": [
    "### Creating a Dataframe\n",
    "\n",
    "Here I am going to separate each text into paragraphs for each author. This will then allow me to perform the classification and natural language processing on these individual paragraphs. "
   ]
  },
  {
   "cell_type": "code",
   "execution_count": 5,
   "metadata": {},
   "outputs": [],
   "source": [
    "# Create an empty dataframe for the paragraph texts and authors\n",
    "paragraph_df = pd.DataFrame()"
   ]
  },
  {
   "cell_type": "code",
   "execution_count": 6,
   "metadata": {},
   "outputs": [],
   "source": [
    "#processing\n",
    "paragraph_list = []\n",
    "author_list = []\n",
    "\n",
    "for book in book_list:\n",
    "    # Loop through each paragraph\n",
    "    for paragraphs in book:\n",
    "        # If the paragraph has only one sentence then it is likely a Chapter or Title\n",
    "        if len(paragraphs) == 1:\n",
    "            # Loop through the words of this single sentence paragraph\n",
    "            for words in paragraphs:\n",
    "                # Only use it if there are more than 2 words in it. \n",
    "                if len(words) > 2:\n",
    "                    para=paragraphs[0]\n",
    "                    # removing the double-dash from all words\n",
    "                    para=[re.sub(r'--','',word) for word in para]\n",
    "                    # Forming each paragraph into a string and adding it to the list of strings.\n",
    "                    paragraph_list.append(' '.join(para))\n",
    "                    # Each time a paragraph is appended, add the corresponding author to another list\n",
    "                    author_list.append('{}'.format(book[0][0]))\n",
    "        # Carry out the same process for all paragraphs that have more than one sentence. \n",
    "        else:\n",
    "            para=paragraphs[0]\n",
    "            #removing the double-dash from all words\n",
    "            para=[re.sub(r'--','',word) for word in para]\n",
    "            #Forming each paragraph into a string and adding it to the list of strings.\n",
    "            paragraph_list.append(' '.join(para))\n",
    "            author_list.append('{}'.format(book[0][0]))        "
   ]
  },
  {
   "cell_type": "code",
   "execution_count": 7,
   "metadata": {},
   "outputs": [],
   "source": [
    "# Now clean up the paragraphs in the lists\n",
    "clean_list = []\n",
    "for each in paragraph_list:\n",
    "    each = re.sub(r'\\s+([\\'-;,?.!\"])', r'\\1', each)\n",
    "    each = \"\".join(each.split(\"} \"))\n",
    "    each = \"'\".join(each.split(\"\\' \"))\n",
    "    each = \"-\".join(each.split(\"- \"))\n",
    "    clean_list.append(each)"
   ]
  },
  {
   "cell_type": "code",
   "execution_count": 8,
   "metadata": {},
   "outputs": [],
   "source": [
    "# Add these clean paragraphs and authors to the dataframe\n",
    "paragraph_df['paragraphs'] = clean_list\n",
    "paragraph_df['authors'] = author_list"
   ]
  },
  {
   "cell_type": "code",
   "execution_count": 9,
   "metadata": {},
   "outputs": [],
   "source": [
    "# Make a column with an encoded label for each author\n",
    "lb_make = LabelEncoder()\n",
    "paragraph_df['author_codes'] = lb_make.fit_transform(paragraph_df['authors'])"
   ]
  },
  {
   "cell_type": "code",
   "execution_count": 10,
   "metadata": {
    "scrolled": false
   },
   "outputs": [
    {
     "data": {
      "text/html": [
       "<div>\n",
       "<style scoped>\n",
       "    .dataframe tbody tr th:only-of-type {\n",
       "        vertical-align: middle;\n",
       "    }\n",
       "\n",
       "    .dataframe tbody tr th {\n",
       "        vertical-align: top;\n",
       "    }\n",
       "\n",
       "    .dataframe thead th {\n",
       "        text-align: right;\n",
       "    }\n",
       "</style>\n",
       "<table border=\"1\" class=\"dataframe\">\n",
       "  <thead>\n",
       "    <tr style=\"text-align: right;\">\n",
       "      <th></th>\n",
       "      <th>paragraphs</th>\n",
       "      <th>authors</th>\n",
       "      <th>author_codes</th>\n",
       "    </tr>\n",
       "  </thead>\n",
       "  <tbody>\n",
       "    <tr>\n",
       "      <th>0</th>\n",
       "      <td>[ The Parent's Assistant, by Maria Edgeworth ]</td>\n",
       "      <td>['[', 'The', 'Parent', \"'\", 's', 'Assistant', ...</td>\n",
       "      <td>9</td>\n",
       "    </tr>\n",
       "    <tr>\n",
       "      <th>1</th>\n",
       "      <td>THE ORPHANS.</td>\n",
       "      <td>['[', 'The', 'Parent', \"'\", 's', 'Assistant', ...</td>\n",
       "      <td>9</td>\n",
       "    </tr>\n",
       "    <tr>\n",
       "      <th>2</th>\n",
       "      <td>Near the ruins of the castle of Rossmore, in I...</td>\n",
       "      <td>['[', 'The', 'Parent', \"'\", 's', 'Assistant', ...</td>\n",
       "      <td>9</td>\n",
       "    </tr>\n",
       "    <tr>\n",
       "      <th>3</th>\n",
       "      <td>Mary was at this time about twelve years old.</td>\n",
       "      <td>['[', 'The', 'Parent', \"'\", 's', 'Assistant', ...</td>\n",
       "      <td>9</td>\n",
       "    </tr>\n",
       "    <tr>\n",
       "      <th>4</th>\n",
       "      <td>\" No need to stop the wheel, Mary, dear, for m...</td>\n",
       "      <td>['[', 'The', 'Parent', \"'\", 's', 'Assistant', ...</td>\n",
       "      <td>9</td>\n",
       "    </tr>\n",
       "  </tbody>\n",
       "</table>\n",
       "</div>"
      ],
      "text/plain": [
       "                                          paragraphs  \\\n",
       "0     [ The Parent's Assistant, by Maria Edgeworth ]   \n",
       "1                                       THE ORPHANS.   \n",
       "2  Near the ruins of the castle of Rossmore, in I...   \n",
       "3      Mary was at this time about twelve years old.   \n",
       "4  \" No need to stop the wheel, Mary, dear, for m...   \n",
       "\n",
       "                                             authors  author_codes  \n",
       "0  ['[', 'The', 'Parent', \"'\", 's', 'Assistant', ...             9  \n",
       "1  ['[', 'The', 'Parent', \"'\", 's', 'Assistant', ...             9  \n",
       "2  ['[', 'The', 'Parent', \"'\", 's', 'Assistant', ...             9  \n",
       "3  ['[', 'The', 'Parent', \"'\", 's', 'Assistant', ...             9  \n",
       "4  ['[', 'The', 'Parent', \"'\", 's', 'Assistant', ...             9  "
      ]
     },
     "execution_count": 10,
     "metadata": {},
     "output_type": "execute_result"
    }
   ],
   "source": [
    "# Completed Dataframe\n",
    "paragraph_df.head()"
   ]
  },
  {
   "cell_type": "markdown",
   "metadata": {},
   "source": [
    "### Exploring Author Characteristics"
   ]
  },
  {
   "cell_type": "code",
   "execution_count": 11,
   "metadata": {},
   "outputs": [],
   "source": [
    "# Create an dataframe for the analyzing the authors\n",
    "author_count_df = pd.DataFrame()"
   ]
  },
  {
   "cell_type": "code",
   "execution_count": 12,
   "metadata": {},
   "outputs": [],
   "source": [
    "# A Column with each author listed\n",
    "author_count_df['authors'] = ['edgeworth', 'melville', 'whitman', 'chesterton', 'bryant', 'austen', 'carroll', 'blake', 'burgess', 'milton']"
   ]
  },
  {
   "cell_type": "code",
   "execution_count": 13,
   "metadata": {},
   "outputs": [],
   "source": [
    "# This is a function to cound the average length of each book's paragraphs\n",
    "def average_paragraph_length(book):\n",
    "    total = 0\n",
    "    count = 0\n",
    "    for paragraphs in book:\n",
    "        #If the length of the paragraph is one then it is likely a Chapter or Title\n",
    "        if len(paragraphs) == 1:\n",
    "            for words in paragraphs:\n",
    "                # Only use it if there are more than 2 words in it. \n",
    "                if len(words) > 2:\n",
    "                    # Add the length of this paragraph to the total\n",
    "                    total += len(paragraphs)\n",
    "                    # Increase the count by one. \n",
    "                    count +=1\n",
    "        else:\n",
    "            # Add the length of this paragraph to the total\n",
    "            total += len(paragraphs)\n",
    "            # Increase the count by one. \n",
    "            count +=1\n",
    "\n",
    "    return round(total/count)"
   ]
  },
  {
   "cell_type": "code",
   "execution_count": 14,
   "metadata": {},
   "outputs": [],
   "source": [
    "paragraph_length = []\n",
    "for each in book_list:\n",
    "    # Use this function on each book and append it to a list\n",
    "    paragraph_length.append(average_paragraph_length(each))\n",
    "\n",
    "# Create a new column for each author's average paragraph length\n",
    "author_count_df['paragraph_length'] = paragraph_length"
   ]
  },
  {
   "cell_type": "code",
   "execution_count": 16,
   "metadata": {},
   "outputs": [
    {
     "name": "stdout",
     "output_type": "stream",
     "text": [
      "['[', 'The', 'Parent', \"'\", 's', 'Assistant', ',', 'by', 'Maria', 'Edgeworth', ']']                       3721\n",
      "['[', 'Moby', 'Dick', 'by', 'Herman', 'Melville', '1851', ']']                                            2636\n",
      "['[', 'Leaves', 'of', 'Grass', 'by', 'Walt', 'Whitman', '1855', ']']                                      2436\n",
      "['[', 'The', 'Ball', 'and', 'The', 'Cross', 'by', 'G', '.', 'K', '.', 'Chesterton', '1909', ']']          1605\n",
      "['[', 'Stories', 'to', 'Tell', 'to', 'Children', 'by', 'Sara', 'Cone', 'Bryant', '1918', ']']             1186\n",
      "['[', 'Persuasion', 'by', 'Jane', 'Austen', '1818', ']']                                                  1007\n",
      "['[', 'Alice', \"'\", 's', 'Adventures', 'in', 'Wonderland', 'by', 'Lewis', 'Carroll', '1865', ']']          814\n",
      "['[', 'Poems', 'by', 'William', 'Blake', '1789', ']']                                                      255\n",
      "['[', 'The', 'Adventures', 'of', 'Buster', 'Bear', 'by', 'Thornton', 'W', '.', 'Burgess', '1920', ']']     243\n",
      "['[', 'Paradise', 'Lost', 'by', 'John', 'Milton', '1667', ']']                                              17\n",
      "Name: authors, dtype: int64\n",
      "9    3721\n",
      "2    2636\n",
      "1    2436\n",
      "8    1605\n",
      "6    1186\n",
      "4    1007\n",
      "0     814\n",
      "5     255\n",
      "7     243\n",
      "3      17\n",
      "Name: author_codes, dtype: int64\n"
     ]
    }
   ],
   "source": [
    "# This is the total number of paragraphs for each author and their corresponding author code\n",
    "print(paragraph_df['authors'].value_counts())\n",
    "print(paragraph_df.author_codes.value_counts())"
   ]
  },
  {
   "cell_type": "code",
   "execution_count": 17,
   "metadata": {},
   "outputs": [],
   "source": [
    "# Create a new column for each author's number of paragraphs\n",
    "author_count_df['number_of_paragraphs'] = list(paragraph_df['authors'].value_counts())"
   ]
  },
  {
   "cell_type": "code",
   "execution_count": 18,
   "metadata": {},
   "outputs": [
    {
     "data": {
      "text/html": [
       "<div>\n",
       "<style scoped>\n",
       "    .dataframe tbody tr th:only-of-type {\n",
       "        vertical-align: middle;\n",
       "    }\n",
       "\n",
       "    .dataframe tbody tr th {\n",
       "        vertical-align: top;\n",
       "    }\n",
       "\n",
       "    .dataframe thead th {\n",
       "        text-align: right;\n",
       "    }\n",
       "</style>\n",
       "<table border=\"1\" class=\"dataframe\">\n",
       "  <thead>\n",
       "    <tr style=\"text-align: right;\">\n",
       "      <th></th>\n",
       "      <th>authors</th>\n",
       "      <th>paragraph_length</th>\n",
       "      <th>number_of_paragraphs</th>\n",
       "    </tr>\n",
       "  </thead>\n",
       "  <tbody>\n",
       "    <tr>\n",
       "      <th>0</th>\n",
       "      <td>edgeworth</td>\n",
       "      <td>3</td>\n",
       "      <td>3721</td>\n",
       "    </tr>\n",
       "    <tr>\n",
       "      <th>1</th>\n",
       "      <td>melville</td>\n",
       "      <td>4</td>\n",
       "      <td>2636</td>\n",
       "    </tr>\n",
       "    <tr>\n",
       "      <th>2</th>\n",
       "      <td>whitman</td>\n",
       "      <td>2</td>\n",
       "      <td>2436</td>\n",
       "    </tr>\n",
       "    <tr>\n",
       "      <th>3</th>\n",
       "      <td>chesterton</td>\n",
       "      <td>3</td>\n",
       "      <td>1605</td>\n",
       "    </tr>\n",
       "    <tr>\n",
       "      <th>4</th>\n",
       "      <td>bryant</td>\n",
       "      <td>2</td>\n",
       "      <td>1186</td>\n",
       "    </tr>\n",
       "    <tr>\n",
       "      <th>5</th>\n",
       "      <td>austen</td>\n",
       "      <td>4</td>\n",
       "      <td>1007</td>\n",
       "    </tr>\n",
       "    <tr>\n",
       "      <th>6</th>\n",
       "      <td>carroll</td>\n",
       "      <td>2</td>\n",
       "      <td>814</td>\n",
       "    </tr>\n",
       "    <tr>\n",
       "      <th>7</th>\n",
       "      <td>blake</td>\n",
       "      <td>2</td>\n",
       "      <td>255</td>\n",
       "    </tr>\n",
       "    <tr>\n",
       "      <th>8</th>\n",
       "      <td>burgess</td>\n",
       "      <td>4</td>\n",
       "      <td>243</td>\n",
       "    </tr>\n",
       "    <tr>\n",
       "      <th>9</th>\n",
       "      <td>milton</td>\n",
       "      <td>108</td>\n",
       "      <td>17</td>\n",
       "    </tr>\n",
       "  </tbody>\n",
       "</table>\n",
       "</div>"
      ],
      "text/plain": [
       "      authors  paragraph_length  number_of_paragraphs\n",
       "0   edgeworth                 3                  3721\n",
       "1    melville                 4                  2636\n",
       "2     whitman                 2                  2436\n",
       "3  chesterton                 3                  1605\n",
       "4      bryant                 2                  1186\n",
       "5      austen                 4                  1007\n",
       "6     carroll                 2                   814\n",
       "7       blake                 2                   255\n",
       "8     burgess                 4                   243\n",
       "9      milton               108                    17"
      ]
     },
     "execution_count": 18,
     "metadata": {},
     "output_type": "execute_result"
    }
   ],
   "source": [
    "author_count_df"
   ]
  },
  {
   "cell_type": "code",
   "execution_count": 19,
   "metadata": {
    "scrolled": false
   },
   "outputs": [
    {
     "data": {
      "image/png": "[encoded data removed]",
      "text/plain": [
       "<matplotlib.figure.Figure at 0x10617f668>"
      ]
     },
     "metadata": {},
     "output_type": "display_data"
    },
    {
     "data": {
      "image/png": "[encoded data removed]",
      "text/plain": [
       "<matplotlib.figure.Figure at 0x10d853518>"
      ]
     },
     "metadata": {},
     "output_type": "display_data"
    }
   ],
   "source": [
    "# Graph for the number of paragraphs for each author\n",
    "y_pos = np.arange(len(author_count_df.number_of_paragraphs)) \n",
    "plt.barh(y_pos, author_count_df.number_of_paragraphs, align='center', alpha=0.5)\n",
    "plt.yticks(y_pos, author_count_df.authors)\n",
    "plt.ylabel('Authors')\n",
    "plt.title('Number of Paragraphs') \n",
    "plt.show()\n",
    "\n",
    "# Graph for the average length of paragraphs for each author\n",
    "y_pos = np.arange(len(author_count_df.paragraph_length)) \n",
    "plt.barh(y_pos, author_count_df.paragraph_length, align='center', alpha=0.5)\n",
    "plt.yticks(y_pos, author_count_df.authors)\n",
    "plt.ylabel('Authors')\n",
    "plt.title('Length of Paragraphs')\n",
    "plt.show()"
   ]
  },
  {
   "cell_type": "markdown",
   "metadata": {},
   "source": [
    "One of the take aways from visualizing the authors and the paragraph dataset is that there is an important distinction between the number of paragraphs and the length of paragraphs. As you can see from the visualization above, John Milton has very few paragraphs compared to all the other authors but he makes up for it by having extremely long paragraphs. This will likely affect my clusters and models because Milton is the outlier."
   ]
  },
  {
   "cell_type": "markdown",
   "metadata": {},
   "source": [
    "## Feature Generation"
   ]
  },
  {
   "cell_type": "markdown",
   "metadata": {},
   "source": [
    "Now that I've created a dataframe and visualized some of the distribution for my dataset, I'm going to create features that I can use for modeling. "
   ]
  },
  {
   "cell_type": "code",
   "execution_count": 20,
   "metadata": {},
   "outputs": [],
   "source": [
    "# Defining my X and Y variables\n",
    "X = paragraph_df.paragraphs\n",
    "Y = paragraph_df.author_codes"
   ]
  },
  {
   "cell_type": "code",
   "execution_count": 45,
   "metadata": {},
   "outputs": [
    {
     "name": "stdout",
     "output_type": "stream",
     "text": [
      "Number of features: 4179\n"
     ]
    }
   ],
   "source": [
    "vectorizer = TfidfVectorizer(max_df=0.5, # drop words that occur in more than half the paragraphs\n",
    "                             min_df=6, # only use words that appear at six times\n",
    "                             stop_words='english', \n",
    "                             lowercase=True, #convert everything to lower case (since Alice in Wonderland has the HABIT of CAPITALIZING WORDS for EMPHASIS)\n",
    "                             use_idf=True,#we definitely want to use inverse document frequencies in our weighting\n",
    "                             norm=u'l2', #Applies a correction factor so that longer paragraphs and shorter paragraphs get treated equally\n",
    "                             smooth_idf=True #Adds 1 to all document frequencies, as if an extra document existed that used every word once.  Prevents divide-by-zero errors\n",
    "                            )\n",
    "\n",
    "\n",
    "#Applying the vectorizer\n",
    "paragraph_tfidf=vectorizer.fit_transform(X)\n",
    "print(\"Number of features: %d\" % paragraph_tfidf.get_shape()[1])\n",
    "\n",
    "#splitting into training and test sets. Reserving 25% of my corpus as a test set.\n",
    "X_train_tfidf, X_test_tfidf, Y_train, Y_test = train_test_split(paragraph_tfidf, \n",
    "                                                                Y,\n",
    "                                                                test_size=0.25,\n",
    "                                                                random_state=0)"
   ]
  },
  {
   "cell_type": "markdown",
   "metadata": {},
   "source": [
    "Because of my large number of features, I want to reduce it to the most valuable components. I am going to use a loop and a Singular Value Decomposition(SVD) to get a better sense of how many components are needed to capture 50% of the variance for my dataset.  "
   ]
  },
  {
   "cell_type": "code",
   "execution_count": 24,
   "metadata": {},
   "outputs": [
    {
     "name": "stdout",
     "output_type": "stream",
     "text": [
      "200\n",
      "Percent variance captured by all components: 33.324471111767906\n",
      "400\n",
      "Percent variance captured by all components: 46.77837565066583\n",
      "600\n",
      "Percent variance captured by all components: 56.161878622526885\n",
      "800\n",
      "Percent variance captured by all components: 63.499196088147805\n",
      "1000\n",
      "Percent variance captured by all components: 69.50808732691449\n"
     ]
    }
   ],
   "source": [
    "for i in range(200, 1100, 200):\n",
    "    svd= TruncatedSVD(i)\n",
    "    lsa = make_pipeline(svd, Normalizer(copy=False))\n",
    "    # Run SVD on the training data, then project the training data.\n",
    "    X_train_lsa = lsa.fit_transform(X_train_tfidf)\n",
    "\n",
    "    variance_explained=svd.explained_variance_ratio_\n",
    "    total_variance = variance_explained.sum()\n",
    "    print(i)\n",
    "    print(\"Percent variance captured by all components:\",total_variance*100)"
   ]
  },
  {
   "cell_type": "code",
   "execution_count": 46,
   "metadata": {},
   "outputs": [
    {
     "name": "stdout",
     "output_type": "stream",
     "text": [
      "Percent variance captured by all components: 51.815549996354434\n"
     ]
    }
   ],
   "source": [
    "# From the code above, I'm going to reduce the feature space from 4179 to 500. \n",
    "svd= TruncatedSVD(500)\n",
    "lsa = make_pipeline(svd, Normalizer(copy=False))\n",
    "# Run SVD on the training data, then project the training data.\n",
    "X_train_lsa = lsa.fit_transform(X_train_tfidf)\n",
    "X_test_lsa = lsa.transform(X_test_tfidf)\n",
    "\n",
    "variance_explained=svd.explained_variance_ratio_\n",
    "total_variance = variance_explained.sum()\n",
    "print(\"Percent variance captured by all components:\",total_variance*100)"
   ]
  },
  {
   "cell_type": "code",
   "execution_count": 26,
   "metadata": {
    "scrolled": false
   },
   "outputs": [
    {
     "data": {
      "text/plain": [
       "(array([67., 66., 58., 53., 41., 32., 25., 19., 13., 11., 11., 10.,  8.,\n",
       "         6.,  7.,  5.,  4.,  3.,  5.,  4.,  5.,  4.,  3.,  3.,  4.,  4.,\n",
       "         0.,  3.,  1.,  2.,  2.,  2.,  0.,  1.,  1.,  1.,  1.,  1.,  1.,\n",
       "         1.,  0.,  0.,  0.,  2.,  1.,  2.,  1.,  1.,  0.,  0.,  1.,  0.,\n",
       "         0.,  0.,  0.,  0.,  1.,  0.,  0.,  1.,  0.,  0.,  0.,  0.,  0.,\n",
       "         0.,  0.,  0.,  0.,  0.,  0.,  0.,  0.,  1.,  0.,  0.,  0.,  0.,\n",
       "         0.,  0.,  0.,  0.,  0.,  0.,  0.,  0.,  0.,  0.,  0.,  0.,  0.,\n",
       "         0.,  0.,  0.,  0.,  0.,  0.,  0.,  0.,  1.]),\n",
       " array([0.00041715, 0.00049552, 0.0005739 , 0.00065227, 0.00073064,\n",
       "        0.00080902, 0.00088739, 0.00096577, 0.00104414, 0.00112252,\n",
       "        0.00120089, 0.00127927, 0.00135764, 0.00143601, 0.00151439,\n",
       "        0.00159276, 0.00167114, 0.00174951, 0.00182789, 0.00190626,\n",
       "        0.00198464, 0.00206301, 0.00214138, 0.00221976, 0.00229813,\n",
       "        0.00237651, 0.00245488, 0.00253326, 0.00261163, 0.00269   ,\n",
       "        0.00276838, 0.00284675, 0.00292513, 0.0030035 , 0.00308188,\n",
       "        0.00316025, 0.00323863, 0.003317  , 0.00339537, 0.00347375,\n",
       "        0.00355212, 0.0036305 , 0.00370887, 0.00378725, 0.00386562,\n",
       "        0.003944  , 0.00402237, 0.00410074, 0.00417912, 0.00425749,\n",
       "        0.00433587, 0.00441424, 0.00449262, 0.00457099, 0.00464937,\n",
       "        0.00472774, 0.00480611, 0.00488449, 0.00496286, 0.00504124,\n",
       "        0.00511961, 0.00519799, 0.00527636, 0.00535474, 0.00543311,\n",
       "        0.00551148, 0.00558986, 0.00566823, 0.00574661, 0.00582498,\n",
       "        0.00590336, 0.00598173, 0.00606011, 0.00613848, 0.00621685,\n",
       "        0.00629523, 0.0063736 , 0.00645198, 0.00653035, 0.00660873,\n",
       "        0.0066871 , 0.00676548, 0.00684385, 0.00692222, 0.0070006 ,\n",
       "        0.00707897, 0.00715735, 0.00723572, 0.0073141 , 0.00739247,\n",
       "        0.00747085, 0.00754922, 0.00762759, 0.00770597, 0.00778434,\n",
       "        0.00786272, 0.00794109, 0.00801947, 0.00809784, 0.00817622,\n",
       "        0.00825459]),\n",
       " <a list of 100 Patch objects>)"
      ]
     },
     "execution_count": 26,
     "metadata": {},
     "output_type": "execute_result"
    },
    {
     "data": {
      "image/png": "[encoded data removed]",
      "text/plain": [
       "<matplotlib.figure.Figure at 0x10d9fd5f8>"
      ]
     },
     "metadata": {},
     "output_type": "display_data"
    }
   ],
   "source": [
    "# This is a histogram showing that many of the components explain very little about the dataset and its variance. \n",
    "plt.hist(variance_explained, bins=100)"
   ]
  },
  {
   "cell_type": "markdown",
   "metadata": {},
   "source": [
    "## Clustering/Unsupervised Modeling\n",
    "\n",
    "To begin my clustering of authors, I used KMeans, MeanShift, and MiniBatchKMeans as my techniques. My impression is that none of the clustering methods performed very well. I tested out many different size of clusters but none of them were able to consistently group the authors. I chose to use 10 as my desired number of clusters given that I have 10 authors that are in my dataframe. "
   ]
  },
  {
   "cell_type": "code",
   "execution_count": 43,
   "metadata": {},
   "outputs": [
    {
     "name": "stdout",
     "output_type": "stream",
     "text": [
      "Comparing k-means clusters against authors:\n",
      "col_0           0    1    2     3    4    5    6   7    8    9\n",
      "author_codes                                                  \n",
      "0               3    0    3   307   27   30  178  10    3   19\n",
      "1               0    0   86   917   17   57    4   0   35  710\n",
      "2              64    0  109  1076  288   24   80  32   28  241\n",
      "3               0    0    0     5    0    0    0   0    0    6\n",
      "4              35    0   28   305   14   23   44  24  260   20\n",
      "5               0    0    3   116   19    5    4   4    3   50\n",
      "6               0    0   53   462  132   19  154  21    3   47\n",
      "7               0    0    3   107   43   10   10   2    3    4\n",
      "8              16  179   77   615   16   28  198  14    8   50\n",
      "9             103    0  154  1564   64  139  401  66  234  125\n"
     ]
    }
   ],
   "source": [
    "# Normalize the data.\n",
    "X_norm = normalize(X_train_lsa)\n",
    "\n",
    "# Calculate predicted values.\n",
    "y_pred = KMeans(n_clusters=10, random_state=42).fit_predict(X_norm)\n",
    "\n",
    "# Check the solution against the data.\n",
    "print('Comparing k-means clusters against authors:')\n",
    "print(pd.crosstab(Y_train, y_pred))"
   ]
  },
  {
   "cell_type": "markdown",
   "metadata": {},
   "source": [
    "The K means clustering does not start out showing any meaningful grouping of the datapoints."
   ]
  },
  {
   "cell_type": "code",
   "execution_count": 41,
   "metadata": {},
   "outputs": [
    {
     "name": "stdout",
     "output_type": "stream",
     "text": [
      "Number of estimated clusters: 1\n",
      "Comparing the assigned categories to the ones in the data:\n",
      "col_0            0\n",
      "author_codes      \n",
      "0              580\n",
      "1             1826\n",
      "2             1942\n",
      "3               11\n",
      "4              753\n",
      "5              204\n",
      "6              891\n",
      "7              182\n",
      "8             1201\n",
      "9             2850\n"
     ]
    }
   ],
   "source": [
    "# Here we set the bandwidth. This function automatically derives a bandwidth\n",
    "# number based on an inspection of the distances among points in the data.\n",
    "bandwidth = estimate_bandwidth(X_train_lsa, quantile=0.2, n_samples=500)\n",
    "\n",
    "# Declare and fit the model.\n",
    "ms = MeanShift(bandwidth=bandwidth, bin_seeding=True)\n",
    "ms.fit(X_train_lsa)\n",
    "\n",
    "# Extract cluster assignments for each data point.\n",
    "labels = ms.labels_\n",
    "\n",
    "# Coordinates of the cluster centers.\n",
    "cluster_centers = ms.cluster_centers_\n",
    "\n",
    "# Count our clusters.\n",
    "n_clusters_ = len(np.unique(labels))\n",
    "\n",
    "print(\"Number of estimated clusters: {}\".format(n_clusters_))\n",
    "print('Comparing the assigned categories to the ones in the data:')\n",
    "print(pd.crosstab(Y_train,labels))"
   ]
  },
  {
   "cell_type": "markdown",
   "metadata": {},
   "source": [
    "The Mean Shift clustering performed very poorly because it decided that there was only one cluster in the dataset."
   ]
  },
  {
   "cell_type": "code",
   "execution_count": 30,
   "metadata": {},
   "outputs": [
    {
     "name": "stdout",
     "output_type": "stream",
     "text": [
      "Comparing k-means and mini batch k-means solutions:\n",
      "col_0           0    1   2   3    4    5    6    7    8     9\n",
      "author_codes                                                 \n",
      "0              33    3   0   0   40   23   11  171   16   283\n",
      "1              62    0  69   3  123  169  160    3   27  1210\n",
      "2              60   67  92   0  445   73   51   82   65  1007\n",
      "3               0    0   0   0    1    1    0    0    0     9\n",
      "4              26   40  17   0   35   27   20   51   43   494\n",
      "5               4    0   4   0   28   29   10    4    6   119\n",
      "6              23    0  34   0  175   35   37  145   46   396\n",
      "7              10    0   0   0   51    6    2   10    6    97\n",
      "8              33   19  88   0   55   15    5  270   36   680\n",
      "9             122  108  83  35  173  114  209  363  181  1462\n"
     ]
    }
   ],
   "source": [
    "from sklearn.cluster import MiniBatchKMeans\n",
    "\n",
    "# Each batch will be made up of 200 data points.\n",
    "minibatchkmeans = MiniBatchKMeans(\n",
    "    init='random',\n",
    "    n_clusters=10,\n",
    "    batch_size=200)\n",
    "minibatchkmeans.fit(X_train_lsa)\n",
    "\n",
    "# Add the new predicted cluster memberships to the data frame.\n",
    "predict_mini = minibatchkmeans.predict(X_train_lsa)\n",
    "\n",
    "# Check the MiniBatch model against the training set.\n",
    "print('Comparing k-means and mini batch k-means solutions:')\n",
    "print(pd.crosstab(Y_train, predict_mini))"
   ]
  },
  {
   "cell_type": "markdown",
   "metadata": {},
   "source": [
    "Before I move onto the Supervised modeling, I'm going to use my 25% reserve corpus test set on the MiniBatchKMeans model. I chose this model because it appeared to do a little better at separating some of the authors into separate groups. The test sample below shows that it does not appear to do any better at consistently separating the authors into their own clusters. "
   ]
  },
  {
   "cell_type": "code",
   "execution_count": 48,
   "metadata": {},
   "outputs": [
    {
     "name": "stdout",
     "output_type": "stream",
     "text": [
      "Comparing mini batch k-means solutions and the test group:\n",
      "col_0          0   1   2   3    4   5   6    7   8    9\n",
      "author_codes                                           \n",
      "0             18   0   4   0   17   7   7   61   8  112\n",
      "1             15   0  27   1   56  60  44    2  10  395\n",
      "2             24  27  40   0  169  35  14   19  15  351\n",
      "3              0   0   2   0    0   2   0    0   0    2\n",
      "4              7  12   6   0   17  10   7   13  16  166\n",
      "5              0   0   0   0    7  11  10    1   1   21\n",
      "6              2   0  12   0   67  12  14   41  17  130\n",
      "7              2   0   1   0   18   4   0    2   1   33\n",
      "8             18   2  34   0   24  10   1  104  13  198\n",
      "9             38  27  16  14   64  37  63  125  49  438\n"
     ]
    }
   ],
   "source": [
    "# Add the new predicted cluster memberships to the data frame.\n",
    "test_predict = minibatchkmeans.predict(X_test_lsa)\n",
    "\n",
    "# Check the MiniBatch model against our earlier one.\n",
    "print('Comparing mini batch k-means solutions and the test group:')\n",
    "print(pd.crosstab(Y_test, test_predict))"
   ]
  },
  {
   "cell_type": "markdown",
   "metadata": {},
   "source": [
    "## Supervised Modeling\n",
    "\n",
    "Next, I am going to compare how several supervised models compare in their classification of the texts by author. "
   ]
  },
  {
   "cell_type": "code",
   "execution_count": 52,
   "metadata": {},
   "outputs": [
    {
     "name": "stdout",
     "output_type": "stream",
     "text": [
      "RandomForestClassifier(bootstrap=True, class_weight=None, criterion='gini',\n",
      "            max_depth=None, max_features='auto', max_leaf_nodes=None,\n",
      "            min_impurity_decrease=0.0, min_impurity_split=None,\n",
      "            min_samples_leaf=1, min_samples_split=2,\n",
      "            min_weight_fraction_leaf=0.0, n_estimators=10, n_jobs=1,\n",
      "            oob_score=False, random_state=None, verbose=0,\n",
      "            warm_start=False)\n",
      "Training set score: 0.9450191570881226\n"
     ]
    }
   ],
   "source": [
    "# Random Forest Classifier\n",
    "rfc = ensemble.RandomForestClassifier()\n",
    "rfc.fit(X_train_lsa,Y_train)\n",
    "print(rfc)\n",
    "print('Training set score:', rfc.score(X_train_lsa,Y_train))"
   ]
  },
  {
   "cell_type": "code",
   "execution_count": 53,
   "metadata": {},
   "outputs": [
    {
     "name": "stdout",
     "output_type": "stream",
     "text": [
      "Report:\n",
      "             precision    recall  f1-score   support\n",
      "\n",
      "          0       0.51      0.32      0.39       234\n",
      "          1       0.50      0.64      0.56       610\n",
      "          2       0.56      0.54      0.55       694\n",
      "          3       0.00      0.00      0.00         6\n",
      "          4       0.60      0.47      0.53       254\n",
      "          5       0.12      0.02      0.03        51\n",
      "          6       0.42      0.29      0.34       295\n",
      "          7       0.83      0.31      0.45        61\n",
      "          8       0.65      0.45      0.54       404\n",
      "          9       0.51      0.68      0.58       871\n",
      "\n",
      "avg / total       0.53      0.53      0.52      3480\n",
      "\n"
     ]
    },
    {
     "name": "stderr",
     "output_type": "stream",
     "text": [
      "/usr/local/lib/python3.6/site-packages/sklearn/metrics/classification.py:1135: UndefinedMetricWarning: Precision and F-score are ill-defined and being set to 0.0 in labels with no predicted samples.\n",
      "  'precision', 'predicted', average, warn_for)\n"
     ]
    },
    {
     "data": {
      "text/plain": [
       "array([[ 74,  23,  23,   0,   9,   0,  14,   0,   9,  82],\n",
       "       [  9, 392,  84,   0,   4,   3,  13,   1,  19,  85],\n",
       "       [ 10, 138, 378,   0,  13,   0,  21,   1,  21, 112],\n",
       "       [  0,   5,   1,   0,   0,   0,   0,   0,   0,   0],\n",
       "       [  8,  19,  24,   0, 120,   1,   6,   1,   3,  72],\n",
       "       [  1,  25,  12,   0,   0,   1,   4,   0,   0,   8],\n",
       "       [ 13,  52,  36,   0,   7,   1,  86,   1,  18,  81],\n",
       "       [  1,   2,   7,   0,   0,   0,   8,  19,   2,  22],\n",
       "       [ 10,  43,  31,   0,   9,   1,  23,   0, 183, 104],\n",
       "       [ 18,  86,  84,   0,  37,   1,  30,   0,  25, 590]])"
      ]
     },
     "execution_count": 53,
     "metadata": {},
     "output_type": "execute_result"
    }
   ],
   "source": [
    "print(\"Report:\")\n",
    "y_true, y_pred = Y_test, rfc.predict(X_test_lsa)\n",
    "print(classification_report(y_true, y_pred))\n",
    "confusion_matrix(y_true, y_pred)"
   ]
  },
  {
   "cell_type": "code",
   "execution_count": 54,
   "metadata": {},
   "outputs": [
    {
     "name": "stdout",
     "output_type": "stream",
     "text": [
      "\n",
      "Each Cross Validated Accuracy score: \n",
      " [0.45285714 0.47701149 0.46264368 0.46695402 0.48121387]\n",
      "\n",
      "Overall Random Forest Classifier Accuracy: 0.47 (+/- 0.02)\n",
      "\n"
     ]
    }
   ],
   "source": [
    "RFC_score = cross_val_score(rfc, X_test_lsa, Y_test, cv=5)\n",
    "print('\\nEach Cross Validated Accuracy score: \\n', RFC_score)\n",
    "print(\"\\nOverall Random Forest Classifier Accuracy: %0.2f (+/- %0.2f)\\n\" % (RFC_score.mean(), RFC_score.std() * 2))"
   ]
  },
  {
   "cell_type": "markdown",
   "metadata": {},
   "source": [
    "In this Random Forest Classifier I see that it performs poorly with a large amount of overfitting. My accuracy score is very bad a 0.47. The only thing that I'm happy to see in this model is that the confusion matrix is better than previous times when I was first working with my data. "
   ]
  },
  {
   "cell_type": "code",
   "execution_count": 55,
   "metadata": {},
   "outputs": [
    {
     "name": "stdout",
     "output_type": "stream",
     "text": [
      "LogisticRegression(C=1.0, class_weight=None, dual=False, fit_intercept=True,\n",
      "          intercept_scaling=1, max_iter=100, multi_class='ovr', n_jobs=1,\n",
      "          penalty='l2', random_state=None, solver='liblinear', tol=0.0001,\n",
      "          verbose=0, warm_start=False)\n",
      "Training set score: 0.7524904214559387\n"
     ]
    }
   ],
   "source": [
    "lr = LogisticRegression()\n",
    "lf_model = lr.fit(X_train_lsa,Y_train)\n",
    "print(lf_model)\n",
    "print('Training set score:', lr.score(X_train_lsa,Y_train))"
   ]
  },
  {
   "cell_type": "code",
   "execution_count": 56,
   "metadata": {},
   "outputs": [
    {
     "name": "stdout",
     "output_type": "stream",
     "text": [
      "Report:\n",
      "             precision    recall  f1-score   support\n",
      "\n",
      "          0       0.97      0.49      0.65       234\n",
      "          1       0.66      0.80      0.73       610\n",
      "          2       0.78      0.67      0.72       694\n",
      "          3       0.00      0.00      0.00         6\n",
      "          4       0.91      0.58      0.71       254\n",
      "          5       1.00      0.04      0.08        51\n",
      "          6       0.64      0.53      0.58       295\n",
      "          7       0.93      0.46      0.62        61\n",
      "          8       0.77      0.62      0.69       404\n",
      "          9       0.60      0.88      0.72       871\n",
      "\n",
      "avg / total       0.73      0.69      0.69      3480\n",
      "\n"
     ]
    },
    {
     "name": "stderr",
     "output_type": "stream",
     "text": [
      "/usr/local/lib/python3.6/site-packages/sklearn/metrics/classification.py:1135: UndefinedMetricWarning: Precision and F-score are ill-defined and being set to 0.0 in labels with no predicted samples.\n",
      "  'precision', 'predicted', average, warn_for)\n"
     ]
    },
    {
     "data": {
      "text/plain": [
       "array([[114,  12,  15,   0,   1,   0,  15,   0,   8,  69],\n",
       "       [  0, 488,  31,   0,   2,   0,   7,   0,   8,  74],\n",
       "       [  0,  82, 463,   0,   3,   0,  12,   0,  19, 115],\n",
       "       [  0,   4,   0,   0,   0,   0,   0,   0,   1,   1],\n",
       "       [  0,  10,  12,   0, 147,   0,   5,   0,   8,  72],\n",
       "       [  0,  33,   6,   0,   0,   2,   5,   0,   1,   4],\n",
       "       [  0,  30,  17,   0,   3,   0, 155,   2,  14,  74],\n",
       "       [  0,   3,   3,   0,   0,   0,   7,  28,   2,  18],\n",
       "       [  1,  30,  23,   0,   0,   0,  23,   0, 250,  77],\n",
       "       [  3,  43,  25,   0,   5,   0,  13,   0,  14, 768]])"
      ]
     },
     "execution_count": 56,
     "metadata": {},
     "output_type": "execute_result"
    }
   ],
   "source": [
    "print(\"Report:\")\n",
    "y_true, y_pred = Y_test, lr.predict(X_test_lsa)\n",
    "print(classification_report(y_true, y_pred))\n",
    "confusion_matrix(y_true, y_pred)"
   ]
  },
  {
   "cell_type": "code",
   "execution_count": 57,
   "metadata": {},
   "outputs": [
    {
     "name": "stdout",
     "output_type": "stream",
     "text": [
      "\n",
      "Each Cross Validated Accuracy score: \n",
      " [0.66571429 0.65948276 0.62787356 0.63218391 0.65317919]\n",
      "\n",
      "Overall Logistic Regression Accuracy: 0.65 (+/- 0.03)\n",
      "\n"
     ]
    }
   ],
   "source": [
    "LR_score = cross_val_score(lr, X_test_lsa, Y_test, cv=5)\n",
    "print('\\nEach Cross Validated Accuracy score: \\n', LR_score)\n",
    "print(\"\\nOverall Logistic Regression Accuracy: %0.2f (+/- %0.2f)\\n\" % (LR_score.mean(), LR_score.std() * 2))"
   ]
  },
  {
   "cell_type": "markdown",
   "metadata": {},
   "source": [
    "The Logistic Regression model is a major improvement to all previous models. It has less overfitting and its end accuracy score is 0.65. "
   ]
  },
  {
   "cell_type": "code",
   "execution_count": 58,
   "metadata": {},
   "outputs": [
    {
     "name": "stdout",
     "output_type": "stream",
     "text": [
      "SVC(C=1.0, cache_size=200, class_weight=None, coef0=0.0,\n",
      "  decision_function_shape='ovr', degree=3, gamma='auto', kernel='linear',\n",
      "  max_iter=-1, probability=False, random_state=None, shrinking=True,\n",
      "  tol=0.001, verbose=False)\n",
      "Training set score: 0.7683908045977011\n"
     ]
    }
   ],
   "source": [
    "from sklearn.svm import SVC\n",
    "svc = SVC(kernel='linear')\n",
    "svc_model = svc.fit(X_train_lsa,Y_train)\n",
    "print(svc_model)\n",
    "print('Training set score:', svc_model.score(X_train_lsa,Y_train))"
   ]
  },
  {
   "cell_type": "code",
   "execution_count": 59,
   "metadata": {},
   "outputs": [
    {
     "name": "stdout",
     "output_type": "stream",
     "text": [
      "Report:\n",
      "             precision    recall  f1-score   support\n",
      "\n",
      "          0       0.91      0.49      0.64       234\n",
      "          1       0.65      0.78      0.71       610\n",
      "          2       0.76      0.66      0.71       694\n",
      "          3       0.00      0.00      0.00         6\n",
      "          4       0.91      0.60      0.72       254\n",
      "          5       0.52      0.22      0.31        51\n",
      "          6       0.61      0.53      0.57       295\n",
      "          7       0.89      0.56      0.69        61\n",
      "          8       0.78      0.65      0.71       404\n",
      "          9       0.62      0.86      0.72       871\n",
      "\n",
      "avg / total       0.71      0.69      0.69      3480\n",
      "\n"
     ]
    },
    {
     "name": "stderr",
     "output_type": "stream",
     "text": [
      "/usr/local/lib/python3.6/site-packages/sklearn/metrics/classification.py:1135: UndefinedMetricWarning: Precision and F-score are ill-defined and being set to 0.0 in labels with no predicted samples.\n",
      "  'precision', 'predicted', average, warn_for)\n"
     ]
    },
    {
     "data": {
      "text/plain": [
       "array([[114,  17,  16,   0,   1,   1,  16,   0,   8,  61],\n",
       "       [  1, 475,  41,   0,   2,   4,  13,   0,   5,  69],\n",
       "       [  2,  88, 458,   0,   2,   1,  15,   1,  21, 106],\n",
       "       [  0,   4,   0,   0,   0,   0,   0,   0,   1,   1],\n",
       "       [  1,   9,  10,   0, 152,   0,   4,   0,   8,  70],\n",
       "       [  0,  29,   4,   0,   0,  11,   3,   1,   0,   3],\n",
       "       [  2,  29,  24,   0,   2,   3, 156,   1,  13,  65],\n",
       "       [  0,   4,   4,   0,   0,   1,   3,  34,   3,  12],\n",
       "       [  2,  28,  16,   0,   0,   0,  26,   1, 261,  70],\n",
       "       [  3,  45,  30,   0,   8,   0,  19,   0,  15, 751]])"
      ]
     },
     "execution_count": 59,
     "metadata": {},
     "output_type": "execute_result"
    }
   ],
   "source": [
    "print(\"Report:\")\n",
    "y_true, y_pred = Y_test, svc.predict(X_test_lsa)\n",
    "print(classification_report(y_true, y_pred))\n",
    "confusion_matrix(y_true, y_pred)"
   ]
  },
  {
   "cell_type": "code",
   "execution_count": 60,
   "metadata": {},
   "outputs": [
    {
     "name": "stdout",
     "output_type": "stream",
     "text": [
      "\n",
      "Each Cross Validated Accuracy score: \n",
      " [0.65142857 0.65517241 0.62212644 0.61925287 0.6416185 ]\n",
      "\n",
      "Overall Logistic Regression Accuracy: 0.64 (+/- 0.03)\n",
      "\n"
     ]
    }
   ],
   "source": [
    "SVC_score = cross_val_score(svc, X_test_lsa, Y_test, cv=5)\n",
    "print('\\nEach Cross Validated Accuracy score: \\n', SVC_score)\n",
    "print(\"\\nOverall Logistic Regression Accuracy: %0.2f (+/- %0.2f)\\n\" % (SVC_score.mean(), SVC_score.std() * 2))"
   ]
  },
  {
   "cell_type": "markdown",
   "metadata": {},
   "source": [
    "This Support Vector Classifier had a similar performance to the logistic regression model. The only difference being that its accuracy is slightly lower at 0.64. "
   ]
  },
  {
   "cell_type": "markdown",
   "metadata": {},
   "source": [
    "# Conclusion"
   ]
  },
  {
   "cell_type": "markdown",
   "metadata": {},
   "source": [
    "Now as I compare clustering and modeling with their ability to accurately classify the text, I would say that modeling easily out performed clustering. \n",
    "    \n",
    "The results from clustering were confusing and inconsistent. Clustering is somewhat of a black box that is difficulty to assess how or why it is connecting datapoints. I find that this makes it hard for a beginner to like myself to get a sense of how I can improve the clusters since so little about the clusters is easily communicated by the program. An advantage of unsupervised models and clustering in general is that they are good at exploring complicated dataset and making connections that supervised models can't make.\n",
    "    \n",
    "The supervised modeling that I used had much better and consistent outcomes. While there were some signs of overfitting, the models successfully separated out the majority of authors and their texts for both the logistic and support vector models. The advantages of modeling is that you can gain a much better perspective of how the data is organized and behaving. I would use modeling over clustering if I am trying to create a more explanatory model for the data."
   ]
  }
 ],
 "metadata": {
  "kernelspec": {
   "display_name": "Python 3",
   "language": "python",
   "name": "python3"
  },
  "language_info": {
   "codemirror_mode": {
    "name": "ipython",
    "version": 3
   },
   "file_extension": ".py",
   "mimetype": "text/x-python",
   "name": "python",
   "nbconvert_exporter": "python",
   "pygments_lexer": "ipython3",
   "version": "3.6.5"
  }
 },
 "nbformat": 4,
 "nbformat_minor": 2
}
