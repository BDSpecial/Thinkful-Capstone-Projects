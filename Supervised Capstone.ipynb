{
 "cells": [
  {
   "cell_type": "markdown",
   "metadata": {},
   "source": [
    "# Supervised Capstone: Predicting Activity with a Smartphone\n",
    "### By Carley Fletcher"
   ]
  },
  {
   "cell_type": "markdown",
   "metadata": {},
   "source": [
    "My Supervised Capstone project is seeking to determined an individual’s activity using a smartphone's internal sensors."
   ]
  },
  {
   "cell_type": "code",
   "execution_count": 1,
   "metadata": {},
   "outputs": [],
   "source": [
    "import pandas as pd\n",
    "import numpy as np\n",
    "import matplotlib.pyplot as plt\n",
    "import scipy as sp\n",
    "import seaborn as sns\n",
    "import re\n",
    "import csv\n",
    "from scipy import stats, integrate\n",
    "%matplotlib inline\n",
    "\n",
    "from sklearn import ensemble\n",
    "from sklearn.metrics import classification_report\n",
    "from sklearn.model_selection import cross_val_score\n",
    "from sklearn.metrics import confusion_matrix\n",
    "from sklearn.svm import SVC"
   ]
  },
  {
   "cell_type": "markdown",
   "metadata": {},
   "source": [
    "### Why Identify and Label Individual’s Activity?\n",
    "\n",
    "The ability of machine to sense, filter, interpret, and possibly mimic human activity and behavior is a widely applicable research field to many industries including healthcare, construction, and teaching. I am personally interested in the ability to better monitor and improve healthcare practices for both patients and providers. "
   ]
  },
  {
   "cell_type": "markdown",
   "metadata": {},
   "source": [
    "### What is Human Activity Recognition?\n",
    "\n",
    "\"Human Activity Recognition (HAR) is a research field that aims to identify the actions carried out by one or more subjects through the gathering and understanding of context information about the user state and its surrounding environment.\"[1] "
   ]
  },
  {
   "cell_type": "markdown",
   "metadata": {},
   "source": [
    "### Research Questions:\n",
    "\n",
    "- Can the activity of a individual be accurately predicted from a smart phone's internal sensors?\n",
    "- What variables are most important for a model to predict activity with a smart phone?\n",
    "- Which model most accurately predicts activity with a smart phone?"
   ]
  },
  {
   "cell_type": "markdown",
   "metadata": {},
   "source": [
    "### Gathering Data\n",
    "\n",
    "Today I will be presenting my analysis and model of a 2013 dataset where 30 participates from ages 19 to 48 used a waist-mounted smartphone as they performed a set of 6 motion sequences: standing, sitting, laying, walking, walking upstairs and walking downstairs. While various home environment or on-body sensors are available to monitor many type of activities, smart phones are becoming increasingly common around the world and are incorporating more inertial sensors such as accelerometers, gyroscopes and magnetometers. This makes smart phones an ideal tool to reach a large section of the population and is not as restricted by location or battery life.  \n",
    "\n",
    "- https://www.kaggle.com/uciml/human-activity-recognition-with-smartphones\n",
    "- http://www.jucs.org/jucs_19_9/energy_efficient_smartphone_based/jucs_19_09_1295_1314_anguita.pdf\n",
    "- https://archive.ics.uci.edu/ml/datasets/Smartphone-Based+Recognition+of+Human+Activities+and+Postural+Transitions#\n",
    "- https://www.youtube.com/watch?v=XOEN9W05_4A\n",
    "- https://www.icephd.org/sites/default/files/IWAAL2012.pdf\n",
    "- https://www.elen.ucl.ac.be/Proceedings/esann/esannpdf/es2013-11.pdf"
   ]
  },
  {
   "cell_type": "code",
   "execution_count": 3,
   "metadata": {},
   "outputs": [],
   "source": [
    "train_data = pd.read_csv('Smart_train.csv.zip')\n",
    "test_data = pd.read_csv('Smart_test.csv.zip')"
   ]
  },
  {
   "cell_type": "code",
   "execution_count": 4,
   "metadata": {},
   "outputs": [
    {
     "data": {
      "text/html": [
       "<div>\n",
       "<style scoped>\n",
       "    .dataframe tbody tr th:only-of-type {\n",
       "        vertical-align: middle;\n",
       "    }\n",
       "\n",
       "    .dataframe tbody tr th {\n",
       "        vertical-align: top;\n",
       "    }\n",
       "\n",
       "    .dataframe thead th {\n",
       "        text-align: right;\n",
       "    }\n",
       "</style>\n",
       "<table border=\"1\" class=\"dataframe\">\n",
       "  <thead>\n",
       "    <tr style=\"text-align: right;\">\n",
       "      <th></th>\n",
       "      <th>tBodyAcc-mean()-X</th>\n",
       "      <th>tBodyAcc-mean()-Y</th>\n",
       "      <th>tBodyAcc-mean()-Z</th>\n",
       "      <th>tBodyAcc-std()-X</th>\n",
       "      <th>tBodyAcc-std()-Y</th>\n",
       "      <th>tBodyAcc-std()-Z</th>\n",
       "      <th>tBodyAcc-mad()-X</th>\n",
       "      <th>tBodyAcc-mad()-Y</th>\n",
       "      <th>tBodyAcc-mad()-Z</th>\n",
       "      <th>tBodyAcc-max()-X</th>\n",
       "      <th>...</th>\n",
       "      <th>fBodyBodyGyroJerkMag-kurtosis()</th>\n",
       "      <th>angle(tBodyAccMean,gravity)</th>\n",
       "      <th>angle(tBodyAccJerkMean),gravityMean)</th>\n",
       "      <th>angle(tBodyGyroMean,gravityMean)</th>\n",
       "      <th>angle(tBodyGyroJerkMean,gravityMean)</th>\n",
       "      <th>angle(X,gravityMean)</th>\n",
       "      <th>angle(Y,gravityMean)</th>\n",
       "      <th>angle(Z,gravityMean)</th>\n",
       "      <th>subject</th>\n",
       "      <th>Activity</th>\n",
       "    </tr>\n",
       "  </thead>\n",
       "  <tbody>\n",
       "    <tr>\n",
       "      <th>0</th>\n",
       "      <td>0.288585</td>\n",
       "      <td>-0.020294</td>\n",
       "      <td>-0.132905</td>\n",
       "      <td>-0.995279</td>\n",
       "      <td>-0.983111</td>\n",
       "      <td>-0.913526</td>\n",
       "      <td>-0.995112</td>\n",
       "      <td>-0.983185</td>\n",
       "      <td>-0.923527</td>\n",
       "      <td>-0.934724</td>\n",
       "      <td>...</td>\n",
       "      <td>-0.710304</td>\n",
       "      <td>-0.112754</td>\n",
       "      <td>0.030400</td>\n",
       "      <td>-0.464761</td>\n",
       "      <td>-0.018446</td>\n",
       "      <td>-0.841247</td>\n",
       "      <td>0.179941</td>\n",
       "      <td>-0.058627</td>\n",
       "      <td>1</td>\n",
       "      <td>STANDING</td>\n",
       "    </tr>\n",
       "    <tr>\n",
       "      <th>1</th>\n",
       "      <td>0.278419</td>\n",
       "      <td>-0.016411</td>\n",
       "      <td>-0.123520</td>\n",
       "      <td>-0.998245</td>\n",
       "      <td>-0.975300</td>\n",
       "      <td>-0.960322</td>\n",
       "      <td>-0.998807</td>\n",
       "      <td>-0.974914</td>\n",
       "      <td>-0.957686</td>\n",
       "      <td>-0.943068</td>\n",
       "      <td>...</td>\n",
       "      <td>-0.861499</td>\n",
       "      <td>0.053477</td>\n",
       "      <td>-0.007435</td>\n",
       "      <td>-0.732626</td>\n",
       "      <td>0.703511</td>\n",
       "      <td>-0.844788</td>\n",
       "      <td>0.180289</td>\n",
       "      <td>-0.054317</td>\n",
       "      <td>1</td>\n",
       "      <td>STANDING</td>\n",
       "    </tr>\n",
       "    <tr>\n",
       "      <th>2</th>\n",
       "      <td>0.279653</td>\n",
       "      <td>-0.019467</td>\n",
       "      <td>-0.113462</td>\n",
       "      <td>-0.995380</td>\n",
       "      <td>-0.967187</td>\n",
       "      <td>-0.978944</td>\n",
       "      <td>-0.996520</td>\n",
       "      <td>-0.963668</td>\n",
       "      <td>-0.977469</td>\n",
       "      <td>-0.938692</td>\n",
       "      <td>...</td>\n",
       "      <td>-0.760104</td>\n",
       "      <td>-0.118559</td>\n",
       "      <td>0.177899</td>\n",
       "      <td>0.100699</td>\n",
       "      <td>0.808529</td>\n",
       "      <td>-0.848933</td>\n",
       "      <td>0.180637</td>\n",
       "      <td>-0.049118</td>\n",
       "      <td>1</td>\n",
       "      <td>STANDING</td>\n",
       "    </tr>\n",
       "    <tr>\n",
       "      <th>3</th>\n",
       "      <td>0.279174</td>\n",
       "      <td>-0.026201</td>\n",
       "      <td>-0.123283</td>\n",
       "      <td>-0.996091</td>\n",
       "      <td>-0.983403</td>\n",
       "      <td>-0.990675</td>\n",
       "      <td>-0.997099</td>\n",
       "      <td>-0.982750</td>\n",
       "      <td>-0.989302</td>\n",
       "      <td>-0.938692</td>\n",
       "      <td>...</td>\n",
       "      <td>-0.482845</td>\n",
       "      <td>-0.036788</td>\n",
       "      <td>-0.012892</td>\n",
       "      <td>0.640011</td>\n",
       "      <td>-0.485366</td>\n",
       "      <td>-0.848649</td>\n",
       "      <td>0.181935</td>\n",
       "      <td>-0.047663</td>\n",
       "      <td>1</td>\n",
       "      <td>STANDING</td>\n",
       "    </tr>\n",
       "    <tr>\n",
       "      <th>4</th>\n",
       "      <td>0.276629</td>\n",
       "      <td>-0.016570</td>\n",
       "      <td>-0.115362</td>\n",
       "      <td>-0.998139</td>\n",
       "      <td>-0.980817</td>\n",
       "      <td>-0.990482</td>\n",
       "      <td>-0.998321</td>\n",
       "      <td>-0.979672</td>\n",
       "      <td>-0.990441</td>\n",
       "      <td>-0.942469</td>\n",
       "      <td>...</td>\n",
       "      <td>-0.699205</td>\n",
       "      <td>0.123320</td>\n",
       "      <td>0.122542</td>\n",
       "      <td>0.693578</td>\n",
       "      <td>-0.615971</td>\n",
       "      <td>-0.847865</td>\n",
       "      <td>0.185151</td>\n",
       "      <td>-0.043892</td>\n",
       "      <td>1</td>\n",
       "      <td>STANDING</td>\n",
       "    </tr>\n",
       "  </tbody>\n",
       "</table>\n",
       "<p>5 rows × 563 columns</p>\n",
       "</div>"
      ],
      "text/plain": [
       "   tBodyAcc-mean()-X  tBodyAcc-mean()-Y  tBodyAcc-mean()-Z  tBodyAcc-std()-X  \\\n",
       "0           0.288585          -0.020294          -0.132905         -0.995279   \n",
       "1           0.278419          -0.016411          -0.123520         -0.998245   \n",
       "2           0.279653          -0.019467          -0.113462         -0.995380   \n",
       "3           0.279174          -0.026201          -0.123283         -0.996091   \n",
       "4           0.276629          -0.016570          -0.115362         -0.998139   \n",
       "\n",
       "   tBodyAcc-std()-Y  tBodyAcc-std()-Z  tBodyAcc-mad()-X  tBodyAcc-mad()-Y  \\\n",
       "0         -0.983111         -0.913526         -0.995112         -0.983185   \n",
       "1         -0.975300         -0.960322         -0.998807         -0.974914   \n",
       "2         -0.967187         -0.978944         -0.996520         -0.963668   \n",
       "3         -0.983403         -0.990675         -0.997099         -0.982750   \n",
       "4         -0.980817         -0.990482         -0.998321         -0.979672   \n",
       "\n",
       "   tBodyAcc-mad()-Z  tBodyAcc-max()-X    ...     \\\n",
       "0         -0.923527         -0.934724    ...      \n",
       "1         -0.957686         -0.943068    ...      \n",
       "2         -0.977469         -0.938692    ...      \n",
       "3         -0.989302         -0.938692    ...      \n",
       "4         -0.990441         -0.942469    ...      \n",
       "\n",
       "   fBodyBodyGyroJerkMag-kurtosis()  angle(tBodyAccMean,gravity)  \\\n",
       "0                        -0.710304                    -0.112754   \n",
       "1                        -0.861499                     0.053477   \n",
       "2                        -0.760104                    -0.118559   \n",
       "3                        -0.482845                    -0.036788   \n",
       "4                        -0.699205                     0.123320   \n",
       "\n",
       "   angle(tBodyAccJerkMean),gravityMean)  angle(tBodyGyroMean,gravityMean)  \\\n",
       "0                              0.030400                         -0.464761   \n",
       "1                             -0.007435                         -0.732626   \n",
       "2                              0.177899                          0.100699   \n",
       "3                             -0.012892                          0.640011   \n",
       "4                              0.122542                          0.693578   \n",
       "\n",
       "   angle(tBodyGyroJerkMean,gravityMean)  angle(X,gravityMean)  \\\n",
       "0                             -0.018446             -0.841247   \n",
       "1                              0.703511             -0.844788   \n",
       "2                              0.808529             -0.848933   \n",
       "3                             -0.485366             -0.848649   \n",
       "4                             -0.615971             -0.847865   \n",
       "\n",
       "   angle(Y,gravityMean)  angle(Z,gravityMean)  subject  Activity  \n",
       "0              0.179941             -0.058627        1  STANDING  \n",
       "1              0.180289             -0.054317        1  STANDING  \n",
       "2              0.180637             -0.049118        1  STANDING  \n",
       "3              0.181935             -0.047663        1  STANDING  \n",
       "4              0.185151             -0.043892        1  STANDING  \n",
       "\n",
       "[5 rows x 563 columns]"
      ]
     },
     "execution_count": 4,
     "metadata": {},
     "output_type": "execute_result"
    }
   ],
   "source": [
    "train_data.head()"
   ]
  },
  {
   "cell_type": "markdown",
   "metadata": {},
   "source": [
    "### From Data to Modeling\n",
    "\n",
    "Now this dataset has a very large number of features. To begin explaining them I will need to go into how this data was recorded and analyze. The features used in this database come from the accelerometer and gyroscope 3-axial raw signals.  The 'XYZ' is used to denote 3-axial signals in the X, Y and Z directions. The prefix 't' refers to time and it was recorded at 50 Hertz or 20 milliseconds. The acceleration signal was then separated into body and gravity acceleration signals. The body linear acceleration and angular velocity were derived in time to obtain Jerk signals. Then the magnitude of these three-dimensional signals were calculated. Lastly a 'f' indicates frequency, or the features where a Fast Fourier Transform (FFT) algorithm was applied to some of these signals to find the frequency of the domain signals. \n",
    "\n",
    "Further details:\n",
    "- Features are normalized and bounded within [-1,1].\n",
    "- Each feature vector is a row on the 'X' and 'y' files.\n",
    "- The units used for the accelerations (total and body) are 'g's (gravity of earth -> 9.80665 m/seg2).\n",
    "- The gyroscope units are rad/seg."
   ]
  },
  {
   "cell_type": "code",
   "execution_count": 5,
   "metadata": {},
   "outputs": [
    {
     "name": "stdout",
     "output_type": "stream",
     "text": [
      "(7352, 563)\n",
      "(2947, 563)\n"
     ]
    }
   ],
   "source": [
    "print(train_data.shape)\n",
    "print(test_data.shape)"
   ]
  },
  {
   "cell_type": "code",
   "execution_count": 6,
   "metadata": {
    "scrolled": false
   },
   "outputs": [
    {
     "name": "stdout",
     "output_type": "stream",
     "text": [
      "tBodyAcc-mean()-X                       0\n",
      "tBodyAcc-mean()-Y                       0\n",
      "tBodyAcc-mean()-Z                       0\n",
      "tBodyAcc-std()-X                        0\n",
      "tBodyAcc-std()-Y                        0\n",
      "tBodyAcc-std()-Z                        0\n",
      "tBodyAcc-mad()-X                        0\n",
      "tBodyAcc-mad()-Y                        0\n",
      "tBodyAcc-mad()-Z                        0\n",
      "tBodyAcc-max()-X                        0\n",
      "tBodyAcc-max()-Y                        0\n",
      "tBodyAcc-max()-Z                        0\n",
      "tBodyAcc-min()-X                        0\n",
      "tBodyAcc-min()-Y                        0\n",
      "tBodyAcc-min()-Z                        0\n",
      "tBodyAcc-sma()                          0\n",
      "tBodyAcc-energy()-X                     0\n",
      "tBodyAcc-energy()-Y                     0\n",
      "tBodyAcc-energy()-Z                     0\n",
      "tBodyAcc-iqr()-X                        0\n",
      "tBodyAcc-iqr()-Y                        0\n",
      "tBodyAcc-iqr()-Z                        0\n",
      "tBodyAcc-entropy()-X                    0\n",
      "tBodyAcc-entropy()-Y                    0\n",
      "tBodyAcc-entropy()-Z                    0\n",
      "tBodyAcc-arCoeff()-X,1                  0\n",
      "tBodyAcc-arCoeff()-X,2                  0\n",
      "tBodyAcc-arCoeff()-X,3                  0\n",
      "tBodyAcc-arCoeff()-X,4                  0\n",
      "tBodyAcc-arCoeff()-Y,1                  0\n",
      "                                       ..\n",
      "fBodyBodyGyroMag-sma()                  0\n",
      "fBodyBodyGyroMag-energy()               0\n",
      "fBodyBodyGyroMag-iqr()                  0\n",
      "fBodyBodyGyroMag-entropy()              0\n",
      "fBodyBodyGyroMag-maxInds                0\n",
      "fBodyBodyGyroMag-meanFreq()             0\n",
      "fBodyBodyGyroMag-skewness()             0\n",
      "fBodyBodyGyroMag-kurtosis()             0\n",
      "fBodyBodyGyroJerkMag-mean()             0\n",
      "fBodyBodyGyroJerkMag-std()              0\n",
      "fBodyBodyGyroJerkMag-mad()              0\n",
      "fBodyBodyGyroJerkMag-max()              0\n",
      "fBodyBodyGyroJerkMag-min()              0\n",
      "fBodyBodyGyroJerkMag-sma()              0\n",
      "fBodyBodyGyroJerkMag-energy()           0\n",
      "fBodyBodyGyroJerkMag-iqr()              0\n",
      "fBodyBodyGyroJerkMag-entropy()          0\n",
      "fBodyBodyGyroJerkMag-maxInds            0\n",
      "fBodyBodyGyroJerkMag-meanFreq()         0\n",
      "fBodyBodyGyroJerkMag-skewness()         0\n",
      "fBodyBodyGyroJerkMag-kurtosis()         0\n",
      "angle(tBodyAccMean,gravity)             0\n",
      "angle(tBodyAccJerkMean),gravityMean)    0\n",
      "angle(tBodyGyroMean,gravityMean)        0\n",
      "angle(tBodyGyroJerkMean,gravityMean)    0\n",
      "angle(X,gravityMean)                    0\n",
      "angle(Y,gravityMean)                    0\n",
      "angle(Z,gravityMean)                    0\n",
      "subject                                 0\n",
      "Activity                                0\n",
      "Length: 563, dtype: int64\n"
     ]
    }
   ],
   "source": [
    "#Before I go any further I want to check in there are any null values in my dataset\n",
    "print(train_data.isnull().sum())"
   ]
  },
  {
   "cell_type": "code",
   "execution_count": 7,
   "metadata": {},
   "outputs": [
    {
     "data": {
      "text/html": [
       "<div>\n",
       "<style scoped>\n",
       "    .dataframe tbody tr th:only-of-type {\n",
       "        vertical-align: middle;\n",
       "    }\n",
       "\n",
       "    .dataframe tbody tr th {\n",
       "        vertical-align: top;\n",
       "    }\n",
       "\n",
       "    .dataframe thead th {\n",
       "        text-align: right;\n",
       "    }\n",
       "</style>\n",
       "<table border=\"1\" class=\"dataframe\">\n",
       "  <thead>\n",
       "    <tr style=\"text-align: right;\">\n",
       "      <th></th>\n",
       "      <th>tBodyAcc-mean()-X</th>\n",
       "      <th>tBodyAcc-mean()-Y</th>\n",
       "      <th>tBodyAcc-mean()-Z</th>\n",
       "      <th>tBodyAcc-std()-X</th>\n",
       "      <th>tBodyAcc-std()-Y</th>\n",
       "      <th>tBodyAcc-std()-Z</th>\n",
       "      <th>tBodyAcc-mad()-X</th>\n",
       "      <th>tBodyAcc-mad()-Y</th>\n",
       "      <th>tBodyAcc-mad()-Z</th>\n",
       "      <th>tBodyAcc-max()-X</th>\n",
       "      <th>...</th>\n",
       "      <th>fBodyBodyGyroJerkMag-skewness()</th>\n",
       "      <th>fBodyBodyGyroJerkMag-kurtosis()</th>\n",
       "      <th>angle(tBodyAccMean,gravity)</th>\n",
       "      <th>angle(tBodyAccJerkMean),gravityMean)</th>\n",
       "      <th>angle(tBodyGyroMean,gravityMean)</th>\n",
       "      <th>angle(tBodyGyroJerkMean,gravityMean)</th>\n",
       "      <th>angle(X,gravityMean)</th>\n",
       "      <th>angle(Y,gravityMean)</th>\n",
       "      <th>angle(Z,gravityMean)</th>\n",
       "      <th>subject</th>\n",
       "    </tr>\n",
       "  </thead>\n",
       "  <tbody>\n",
       "    <tr>\n",
       "      <th>count</th>\n",
       "      <td>7352.000000</td>\n",
       "      <td>7352.000000</td>\n",
       "      <td>7352.000000</td>\n",
       "      <td>7352.000000</td>\n",
       "      <td>7352.000000</td>\n",
       "      <td>7352.000000</td>\n",
       "      <td>7352.000000</td>\n",
       "      <td>7352.000000</td>\n",
       "      <td>7352.000000</td>\n",
       "      <td>7352.000000</td>\n",
       "      <td>...</td>\n",
       "      <td>7352.000000</td>\n",
       "      <td>7352.000000</td>\n",
       "      <td>7352.000000</td>\n",
       "      <td>7352.000000</td>\n",
       "      <td>7352.000000</td>\n",
       "      <td>7352.000000</td>\n",
       "      <td>7352.000000</td>\n",
       "      <td>7352.000000</td>\n",
       "      <td>7352.000000</td>\n",
       "      <td>7352.000000</td>\n",
       "    </tr>\n",
       "    <tr>\n",
       "      <th>mean</th>\n",
       "      <td>0.274488</td>\n",
       "      <td>-0.017695</td>\n",
       "      <td>-0.109141</td>\n",
       "      <td>-0.605438</td>\n",
       "      <td>-0.510938</td>\n",
       "      <td>-0.604754</td>\n",
       "      <td>-0.630512</td>\n",
       "      <td>-0.526907</td>\n",
       "      <td>-0.606150</td>\n",
       "      <td>-0.468604</td>\n",
       "      <td>...</td>\n",
       "      <td>-0.307009</td>\n",
       "      <td>-0.625294</td>\n",
       "      <td>0.008684</td>\n",
       "      <td>0.002186</td>\n",
       "      <td>0.008726</td>\n",
       "      <td>-0.005981</td>\n",
       "      <td>-0.489547</td>\n",
       "      <td>0.058593</td>\n",
       "      <td>-0.056515</td>\n",
       "      <td>17.413085</td>\n",
       "    </tr>\n",
       "    <tr>\n",
       "      <th>std</th>\n",
       "      <td>0.070261</td>\n",
       "      <td>0.040811</td>\n",
       "      <td>0.056635</td>\n",
       "      <td>0.448734</td>\n",
       "      <td>0.502645</td>\n",
       "      <td>0.418687</td>\n",
       "      <td>0.424073</td>\n",
       "      <td>0.485942</td>\n",
       "      <td>0.414122</td>\n",
       "      <td>0.544547</td>\n",
       "      <td>...</td>\n",
       "      <td>0.321011</td>\n",
       "      <td>0.307584</td>\n",
       "      <td>0.336787</td>\n",
       "      <td>0.448306</td>\n",
       "      <td>0.608303</td>\n",
       "      <td>0.477975</td>\n",
       "      <td>0.511807</td>\n",
       "      <td>0.297480</td>\n",
       "      <td>0.279122</td>\n",
       "      <td>8.975143</td>\n",
       "    </tr>\n",
       "    <tr>\n",
       "      <th>min</th>\n",
       "      <td>-1.000000</td>\n",
       "      <td>-1.000000</td>\n",
       "      <td>-1.000000</td>\n",
       "      <td>-1.000000</td>\n",
       "      <td>-0.999873</td>\n",
       "      <td>-1.000000</td>\n",
       "      <td>-1.000000</td>\n",
       "      <td>-1.000000</td>\n",
       "      <td>-1.000000</td>\n",
       "      <td>-1.000000</td>\n",
       "      <td>...</td>\n",
       "      <td>-0.995357</td>\n",
       "      <td>-0.999765</td>\n",
       "      <td>-0.976580</td>\n",
       "      <td>-1.000000</td>\n",
       "      <td>-1.000000</td>\n",
       "      <td>-1.000000</td>\n",
       "      <td>-1.000000</td>\n",
       "      <td>-1.000000</td>\n",
       "      <td>-1.000000</td>\n",
       "      <td>1.000000</td>\n",
       "    </tr>\n",
       "    <tr>\n",
       "      <th>25%</th>\n",
       "      <td>0.262975</td>\n",
       "      <td>-0.024863</td>\n",
       "      <td>-0.120993</td>\n",
       "      <td>-0.992754</td>\n",
       "      <td>-0.978129</td>\n",
       "      <td>-0.980233</td>\n",
       "      <td>-0.993591</td>\n",
       "      <td>-0.978162</td>\n",
       "      <td>-0.980251</td>\n",
       "      <td>-0.936219</td>\n",
       "      <td>...</td>\n",
       "      <td>-0.542602</td>\n",
       "      <td>-0.845573</td>\n",
       "      <td>-0.121527</td>\n",
       "      <td>-0.289549</td>\n",
       "      <td>-0.482273</td>\n",
       "      <td>-0.376341</td>\n",
       "      <td>-0.812065</td>\n",
       "      <td>-0.017885</td>\n",
       "      <td>-0.143414</td>\n",
       "      <td>8.000000</td>\n",
       "    </tr>\n",
       "    <tr>\n",
       "      <th>50%</th>\n",
       "      <td>0.277193</td>\n",
       "      <td>-0.017219</td>\n",
       "      <td>-0.108676</td>\n",
       "      <td>-0.946196</td>\n",
       "      <td>-0.851897</td>\n",
       "      <td>-0.859365</td>\n",
       "      <td>-0.950709</td>\n",
       "      <td>-0.857328</td>\n",
       "      <td>-0.857143</td>\n",
       "      <td>-0.881637</td>\n",
       "      <td>...</td>\n",
       "      <td>-0.343685</td>\n",
       "      <td>-0.711692</td>\n",
       "      <td>0.009509</td>\n",
       "      <td>0.008943</td>\n",
       "      <td>0.008735</td>\n",
       "      <td>-0.000368</td>\n",
       "      <td>-0.709417</td>\n",
       "      <td>0.182071</td>\n",
       "      <td>0.003181</td>\n",
       "      <td>19.000000</td>\n",
       "    </tr>\n",
       "    <tr>\n",
       "      <th>75%</th>\n",
       "      <td>0.288461</td>\n",
       "      <td>-0.010783</td>\n",
       "      <td>-0.097794</td>\n",
       "      <td>-0.242813</td>\n",
       "      <td>-0.034231</td>\n",
       "      <td>-0.262415</td>\n",
       "      <td>-0.292680</td>\n",
       "      <td>-0.066701</td>\n",
       "      <td>-0.265671</td>\n",
       "      <td>-0.017129</td>\n",
       "      <td>...</td>\n",
       "      <td>-0.126979</td>\n",
       "      <td>-0.503878</td>\n",
       "      <td>0.150865</td>\n",
       "      <td>0.292861</td>\n",
       "      <td>0.506187</td>\n",
       "      <td>0.359368</td>\n",
       "      <td>-0.509079</td>\n",
       "      <td>0.248353</td>\n",
       "      <td>0.107659</td>\n",
       "      <td>26.000000</td>\n",
       "    </tr>\n",
       "    <tr>\n",
       "      <th>max</th>\n",
       "      <td>1.000000</td>\n",
       "      <td>1.000000</td>\n",
       "      <td>1.000000</td>\n",
       "      <td>1.000000</td>\n",
       "      <td>0.916238</td>\n",
       "      <td>1.000000</td>\n",
       "      <td>1.000000</td>\n",
       "      <td>0.967664</td>\n",
       "      <td>1.000000</td>\n",
       "      <td>1.000000</td>\n",
       "      <td>...</td>\n",
       "      <td>0.989538</td>\n",
       "      <td>0.956845</td>\n",
       "      <td>1.000000</td>\n",
       "      <td>1.000000</td>\n",
       "      <td>0.998702</td>\n",
       "      <td>0.996078</td>\n",
       "      <td>1.000000</td>\n",
       "      <td>0.478157</td>\n",
       "      <td>1.000000</td>\n",
       "      <td>30.000000</td>\n",
       "    </tr>\n",
       "  </tbody>\n",
       "</table>\n",
       "<p>8 rows × 562 columns</p>\n",
       "</div>"
      ],
      "text/plain": [
       "       tBodyAcc-mean()-X  tBodyAcc-mean()-Y  tBodyAcc-mean()-Z  \\\n",
       "count        7352.000000        7352.000000        7352.000000   \n",
       "mean            0.274488          -0.017695          -0.109141   \n",
       "std             0.070261           0.040811           0.056635   \n",
       "min            -1.000000          -1.000000          -1.000000   \n",
       "25%             0.262975          -0.024863          -0.120993   \n",
       "50%             0.277193          -0.017219          -0.108676   \n",
       "75%             0.288461          -0.010783          -0.097794   \n",
       "max             1.000000           1.000000           1.000000   \n",
       "\n",
       "       tBodyAcc-std()-X  tBodyAcc-std()-Y  tBodyAcc-std()-Z  tBodyAcc-mad()-X  \\\n",
       "count       7352.000000       7352.000000       7352.000000       7352.000000   \n",
       "mean          -0.605438         -0.510938         -0.604754         -0.630512   \n",
       "std            0.448734          0.502645          0.418687          0.424073   \n",
       "min           -1.000000         -0.999873         -1.000000         -1.000000   \n",
       "25%           -0.992754         -0.978129         -0.980233         -0.993591   \n",
       "50%           -0.946196         -0.851897         -0.859365         -0.950709   \n",
       "75%           -0.242813         -0.034231         -0.262415         -0.292680   \n",
       "max            1.000000          0.916238          1.000000          1.000000   \n",
       "\n",
       "       tBodyAcc-mad()-Y  tBodyAcc-mad()-Z  tBodyAcc-max()-X     ...       \\\n",
       "count       7352.000000       7352.000000       7352.000000     ...        \n",
       "mean          -0.526907         -0.606150         -0.468604     ...        \n",
       "std            0.485942          0.414122          0.544547     ...        \n",
       "min           -1.000000         -1.000000         -1.000000     ...        \n",
       "25%           -0.978162         -0.980251         -0.936219     ...        \n",
       "50%           -0.857328         -0.857143         -0.881637     ...        \n",
       "75%           -0.066701         -0.265671         -0.017129     ...        \n",
       "max            0.967664          1.000000          1.000000     ...        \n",
       "\n",
       "       fBodyBodyGyroJerkMag-skewness()  fBodyBodyGyroJerkMag-kurtosis()  \\\n",
       "count                      7352.000000                      7352.000000   \n",
       "mean                         -0.307009                        -0.625294   \n",
       "std                           0.321011                         0.307584   \n",
       "min                          -0.995357                        -0.999765   \n",
       "25%                          -0.542602                        -0.845573   \n",
       "50%                          -0.343685                        -0.711692   \n",
       "75%                          -0.126979                        -0.503878   \n",
       "max                           0.989538                         0.956845   \n",
       "\n",
       "       angle(tBodyAccMean,gravity)  angle(tBodyAccJerkMean),gravityMean)  \\\n",
       "count                  7352.000000                           7352.000000   \n",
       "mean                      0.008684                              0.002186   \n",
       "std                       0.336787                              0.448306   \n",
       "min                      -0.976580                             -1.000000   \n",
       "25%                      -0.121527                             -0.289549   \n",
       "50%                       0.009509                              0.008943   \n",
       "75%                       0.150865                              0.292861   \n",
       "max                       1.000000                              1.000000   \n",
       "\n",
       "       angle(tBodyGyroMean,gravityMean)  angle(tBodyGyroJerkMean,gravityMean)  \\\n",
       "count                       7352.000000                           7352.000000   \n",
       "mean                           0.008726                             -0.005981   \n",
       "std                            0.608303                              0.477975   \n",
       "min                           -1.000000                             -1.000000   \n",
       "25%                           -0.482273                             -0.376341   \n",
       "50%                            0.008735                             -0.000368   \n",
       "75%                            0.506187                              0.359368   \n",
       "max                            0.998702                              0.996078   \n",
       "\n",
       "       angle(X,gravityMean)  angle(Y,gravityMean)  angle(Z,gravityMean)  \\\n",
       "count           7352.000000           7352.000000           7352.000000   \n",
       "mean              -0.489547              0.058593             -0.056515   \n",
       "std                0.511807              0.297480              0.279122   \n",
       "min               -1.000000             -1.000000             -1.000000   \n",
       "25%               -0.812065             -0.017885             -0.143414   \n",
       "50%               -0.709417              0.182071              0.003181   \n",
       "75%               -0.509079              0.248353              0.107659   \n",
       "max                1.000000              0.478157              1.000000   \n",
       "\n",
       "           subject  \n",
       "count  7352.000000  \n",
       "mean     17.413085  \n",
       "std       8.975143  \n",
       "min       1.000000  \n",
       "25%       8.000000  \n",
       "50%      19.000000  \n",
       "75%      26.000000  \n",
       "max      30.000000  \n",
       "\n",
       "[8 rows x 562 columns]"
      ]
     },
     "execution_count": 7,
     "metadata": {},
     "output_type": "execute_result"
    }
   ],
   "source": [
    "train_data.describe()"
   ]
  },
  {
   "cell_type": "markdown",
   "metadata": {},
   "source": [
    "### Feature Distribution\n",
    "\n",
    "Here I will begin visualize the relationship of the 'Gravity Acceleration' and 'Gravity Energy' features to each type of activity. This is to demonstrate how an distinction can be identified between these features and the corresponding activities. "
   ]
  },
  {
   "cell_type": "code",
   "execution_count": 8,
   "metadata": {},
   "outputs": [
    {
     "data": {
      "text/plain": [
       "array(['LAYING', 'SITTING', 'STANDING', 'WALKING', 'WALKING_DOWNSTAIRS',\n",
       "       'WALKING_UPSTAIRS'], dtype=object)"
      ]
     },
     "execution_count": 8,
     "metadata": {},
     "output_type": "execute_result"
    }
   ],
   "source": [
    "np.unique(train_data['Activity'])"
   ]
  },
  {
   "cell_type": "code",
   "execution_count": 9,
   "metadata": {
    "scrolled": true
   },
   "outputs": [],
   "source": [
    "laying_df = train_data[train_data['Activity']=='LAYING']\n",
    "sitting_df = train_data[train_data['Activity']=='SITTING']\n",
    "standing_df = train_data[train_data['Activity']=='STANDING']\n",
    "walking_df = train_data[train_data['Activity']=='WALKING']\n",
    "walkDOWN_df = train_data[train_data['Activity']=='WALKING_DOWNSTAIRS']\n",
    "walkUP_df = train_data[train_data['Activity']=='WALKING_UPSTAIRS']"
   ]
  },
  {
   "cell_type": "code",
   "execution_count": 10,
   "metadata": {},
   "outputs": [
    {
     "data": {
      "image/png": "[encoded data removed]",
      "text/plain": [
       "<matplotlib.figure.Figure at 0x106ea2828>"
      ]
     },
     "metadata": {},
     "output_type": "display_data"
    }
   ],
   "source": [
    "modeling_list = [laying_df]\n",
    "\n",
    "#I am visualizing all the continuous data points with a QQ polt and a histogram\n",
    "for each in modeling_list:\n",
    "    #Set up the figure size\n",
    "    f, ax = plt.subplots(figsize=(10, 5))\n",
    "    plt.subplot(1, 2, 1)\n",
    "            \n",
    "    #Sort the values from the dataset\n",
    "    result = each['tGravityAcc-min()-X'].sort_values()\n",
    "    #Create a normal distribution variable\n",
    "    norm = np.random.normal(0, 1, len(each))\n",
    "    #Sort the values of the normal distribution\n",
    "    norm.sort()\n",
    "    #Create the QQ plot\n",
    "    plt.plot(norm, result, \"o\")\n",
    "    plt.ylabel('Laying Down Gravity Acceleration')\n",
    "    plt.title('Gravity Acceleration vs Normal distribution')\n",
    "            \n",
    "    #Create the histogram of the dataset\n",
    "    plt.subplot(1, 2, 2)\n",
    "    plt.hist(result)\n",
    "    plt.title('Laying Down')"
   ]
  },
  {
   "cell_type": "code",
   "execution_count": 11,
   "metadata": {},
   "outputs": [
    {
     "data": {
      "image/png": "[encoded data removed]",
      "text/plain": [
       "<matplotlib.figure.Figure at 0x107b4f320>"
      ]
     },
     "metadata": {},
     "output_type": "display_data"
    }
   ],
   "source": [
    "modeling_list = [laying_df]\n",
    "\n",
    "#I am visualizing all the continuous data points with a QQ polt and a histogram\n",
    "for each in modeling_list:\n",
    "    #Set up the figure size\n",
    "    f, ax = plt.subplots(figsize=(10, 5))\n",
    "    plt.subplot(1, 2, 1)\n",
    "            \n",
    "    #Sort the values from the dataset\n",
    "    result = each['tGravityAcc-energy()-X'].sort_values()\n",
    "    #Create a normal distribution variable\n",
    "    norm = np.random.normal(0, 1, len(each))\n",
    "    #Sort the values of the normal distribution\n",
    "    norm.sort()\n",
    "    #Create the QQ plot\n",
    "    plt.plot(norm, result, \"o\")\n",
    "    plt.ylabel('Laying Down Gravity Energy')\n",
    "    plt.title('Gravity Energy vs Normal distribution')\n",
    "            \n",
    "    #Create the histogram of the dataset\n",
    "    plt.subplot(1, 2, 2)\n",
    "    plt.hist(result)\n",
    "    plt.title('Laying Down')"
   ]
  },
  {
   "cell_type": "code",
   "execution_count": 12,
   "metadata": {},
   "outputs": [
    {
     "data": {
      "image/png": "[encoded data removed]",
      "text/plain": [
       "<matplotlib.figure.Figure at 0x10fe25d30>"
      ]
     },
     "metadata": {},
     "output_type": "display_data"
    }
   ],
   "source": [
    "modeling_list = [standing_df]\n",
    "\n",
    "#I am visualizing all the continuous data points with a QQ polt and a histogram\n",
    "for each in modeling_list:\n",
    "    #Set up the figure size\n",
    "    f, ax = plt.subplots(figsize=(10, 5))\n",
    "    plt.subplot(1, 2, 1)\n",
    "            \n",
    "    #Sort the values from the dataset\n",
    "    result = each['tGravityAcc-min()-X'].sort_values()\n",
    "    #Create a normal distribution variable\n",
    "    norm = np.random.normal(0, 1, len(each))\n",
    "    #Sort the values of the normal distribution\n",
    "    norm.sort()\n",
    "    #Create the QQ plot\n",
    "    plt.plot(norm, result, \"o\")\n",
    "    plt.ylabel('Standing Gravity Acceleration')\n",
    "    plt.title('Gravity Acceleration vs Normal distribution')\n",
    "            \n",
    "    #Create the histogram of the dataset\n",
    "    plt.subplot(1, 2, 2)\n",
    "    plt.hist(result)\n",
    "    plt.title('Standing')"
   ]
  },
  {
   "cell_type": "code",
   "execution_count": 13,
   "metadata": {},
   "outputs": [
    {
     "data": {
      "image/png": "[encoded data removed]",
      "text/plain": [
       "<matplotlib.figure.Figure at 0x107bbcf60>"
      ]
     },
     "metadata": {},
     "output_type": "display_data"
    }
   ],
   "source": [
    "modeling_list = [standing_df]\n",
    "\n",
    "#I am visualizing all the continuous data points with a QQ polt and a histogram\n",
    "for each in modeling_list:\n",
    "    #Set up the figure size\n",
    "    f, ax = plt.subplots(figsize=(10, 5))\n",
    "    plt.subplot(1, 2, 1)\n",
    "            \n",
    "    #Sort the values from the dataset\n",
    "    result = each['tGravityAcc-energy()-X'].sort_values()\n",
    "    #Create a normal distribution variable\n",
    "    norm = np.random.normal(0, 1, len(each))\n",
    "    #Sort the values of the normal distribution\n",
    "    norm.sort()\n",
    "    #Create the QQ plot\n",
    "    plt.plot(norm, result, \"o\")\n",
    "    plt.ylabel('Standing Gravity Energy')\n",
    "    plt.title('Gravity Energy vs Normal distribution')\n",
    "            \n",
    "    #Create the histogram of the dataset\n",
    "    plt.subplot(1, 2, 2)\n",
    "    plt.hist(result)\n",
    "    plt.title('Standing')"
   ]
  },
  {
   "cell_type": "code",
   "execution_count": 14,
   "metadata": {},
   "outputs": [
    {
     "data": {
      "image/png": "[encoded data removed]",
      "text/plain": [
       "<matplotlib.figure.Figure at 0x1121914a8>"
      ]
     },
     "metadata": {},
     "output_type": "display_data"
    }
   ],
   "source": [
    "modeling_list = [walkDOWN_df]\n",
    "\n",
    "#I am visualizing all the continuous data points with a QQ polt and a histogram\n",
    "for each in modeling_list:\n",
    "    #Set up the figure size\n",
    "    f, ax = plt.subplots(figsize=(10, 5))\n",
    "    plt.subplot(1, 2, 1)\n",
    "            \n",
    "    #Sort the values from the dataset\n",
    "    result = each['tGravityAcc-min()-X'].sort_values()\n",
    "    #Create a normal distribution variable\n",
    "    norm = np.random.normal(0, 1, len(each))\n",
    "    #Sort the values of the normal distribution\n",
    "    norm.sort()\n",
    "    #Create the QQ plot\n",
    "    plt.plot(norm, result, \"o\")\n",
    "    plt.ylabel('Walking Down Stairs Gravity Acceleration')\n",
    "    plt.title('Gravity Acceleration vs Normal distribution')\n",
    "            \n",
    "    #Create the histogram of the dataset\n",
    "    plt.subplot(1, 2, 2)\n",
    "    plt.hist(result)\n",
    "    plt.title('Walking Down Stairs')"
   ]
  },
  {
   "cell_type": "code",
   "execution_count": 15,
   "metadata": {},
   "outputs": [
    {
     "data": {
      "image/png": "[encoded data removed]",
      "text/plain": [
       "<matplotlib.figure.Figure at 0x11203cef0>"
      ]
     },
     "metadata": {},
     "output_type": "display_data"
    }
   ],
   "source": [
    "modeling_list = [walkDOWN_df]\n",
    "\n",
    "#I am visualizing all the continuous data points with a QQ polt and a histogram\n",
    "for each in modeling_list:\n",
    "    #Set up the figure size\n",
    "    f, ax = plt.subplots(figsize=(10, 5))\n",
    "    plt.subplot(1, 2, 1)\n",
    "            \n",
    "    #Sort the values from the dataset\n",
    "    result = each['tGravityAcc-energy()-X'].sort_values()\n",
    "    #Create a normal distribution variable\n",
    "    norm = np.random.normal(0, 1, len(each))\n",
    "    #Sort the values of the normal distribution\n",
    "    norm.sort()\n",
    "    #Create the QQ plot\n",
    "    plt.plot(norm, result, \"o\")\n",
    "    plt.ylabel('Walking Down Stairs Gravity Energy')\n",
    "    plt.title('Gravity Energy vs Normal distribution')\n",
    "            \n",
    "    #Create the histogram of the dataset\n",
    "    plt.subplot(1, 2, 2)\n",
    "    plt.hist(result)\n",
    "    plt.title('Walking Down Stairs')"
   ]
  },
  {
   "cell_type": "markdown",
   "metadata": {},
   "source": [
    "### Dataset Balance\n",
    "\n",
    "Before I move onto modeling my dataset, I want to check if the data is well balanced between the various activities and subject participants. "
   ]
  },
  {
   "cell_type": "code",
   "execution_count": 16,
   "metadata": {
    "scrolled": true
   },
   "outputs": [
    {
     "name": "stdout",
     "output_type": "stream",
     "text": [
      "LAYING\n",
      "19%\n",
      "SITTING\n",
      "17%\n",
      "STANDING\n",
      "19%\n",
      "WALKING\n",
      "17%\n",
      "WALKING_DOWNSTAIRS\n",
      "13%\n",
      "WALKING_UPSTAIRS\n",
      "15%\n"
     ]
    }
   ],
   "source": [
    "for each in np.unique(train_data['Activity']):\n",
    "    print(each)\n",
    "    print(\"{}%\".format(round((len(train_data[train_data['Activity']==each])/len(train_data))*100)))"
   ]
  },
  {
   "cell_type": "code",
   "execution_count": 17,
   "metadata": {},
   "outputs": [
    {
     "name": "stdout",
     "output_type": "stream",
     "text": [
      "subject 1\n",
      "5%\n",
      "subject 3\n",
      "5%\n",
      "subject 5\n",
      "4%\n",
      "subject 6\n",
      "4%\n",
      "subject 7\n",
      "4%\n",
      "subject 8\n",
      "4%\n",
      "subject 11\n",
      "4%\n",
      "subject 14\n",
      "4%\n",
      "subject 15\n",
      "4%\n",
      "subject 16\n",
      "5%\n",
      "subject 17\n",
      "5%\n",
      "subject 19\n",
      "5%\n",
      "subject 21\n",
      "6%\n",
      "subject 22\n",
      "4%\n",
      "subject 23\n",
      "5%\n",
      "subject 25\n",
      "6%\n",
      "subject 26\n",
      "5%\n",
      "subject 27\n",
      "5%\n",
      "subject 28\n",
      "5%\n",
      "subject 29\n",
      "5%\n",
      "subject 30\n",
      "5%\n"
     ]
    }
   ],
   "source": [
    "for each in np.unique(train_data['subject']):\n",
    "    print(\"subject {}\".format(each))\n",
    "    print(\"{}%\".format(round((len(train_data[train_data['subject']==each])/len(train_data))*100)))"
   ]
  },
  {
   "cell_type": "markdown",
   "metadata": {},
   "source": [
    "From this basic math I can see that the dataset is well balanced between both activites and participants. "
   ]
  },
  {
   "cell_type": "markdown",
   "metadata": {},
   "source": [
    "## Multiclass Classification Modeling\n",
    "\n",
    "Because one of my research questions is about finding which variables are most important for model prediction, I will start with explanatory models. Additionally, my models are limited to a multiclass classification selection because of the nature of the dataset. "
   ]
  },
  {
   "cell_type": "code",
   "execution_count": 18,
   "metadata": {},
   "outputs": [],
   "source": [
    "# The outcomes of interest for both the train and test dataset\n",
    "train_Y = train_data['Activity']\n",
    "test_Y = test_data['Activity']"
   ]
  },
  {
   "cell_type": "code",
   "execution_count": 19,
   "metadata": {},
   "outputs": [],
   "source": [
    "#Drop Subject and Acivity from features\n",
    "train_data = train_data.drop(['subject', 'Activity'], axis=1)\n",
    "test_data = test_data.drop(['subject', 'Activity'], axis=1)"
   ]
  },
  {
   "cell_type": "markdown",
   "metadata": {},
   "source": [
    "## Random Forest Classifier"
   ]
  },
  {
   "cell_type": "code",
   "execution_count": 20,
   "metadata": {
    "scrolled": false
   },
   "outputs": [
    {
     "name": "stdout",
     "output_type": "stream",
     "text": [
      "Report:\n",
      "                    precision    recall  f1-score   support\n",
      "\n",
      "            LAYING       1.00      1.00      1.00       537\n",
      "           SITTING       0.87      0.85      0.86       491\n",
      "          STANDING       0.87      0.88      0.88       532\n",
      "           WALKING       0.84      0.94      0.88       496\n",
      "WALKING_DOWNSTAIRS       0.93      0.84      0.89       420\n",
      "  WALKING_UPSTAIRS       0.86      0.83      0.84       471\n",
      "\n",
      "       avg / total       0.90      0.89      0.89      2947\n",
      "\n"
     ]
    },
    {
     "data": {
      "text/plain": [
       "array([[537,   0,   0,   0,   0,   0],\n",
       "       [  0, 418,  72,   0,   0,   1],\n",
       "       [  0,  62, 470,   0,   0,   0],\n",
       "       [  0,   0,   0, 465,   9,  22],\n",
       "       [  0,   0,   0,  26, 354,  40],\n",
       "       [  0,   0,   0,  65,  16, 390]])"
      ]
     },
     "execution_count": 20,
     "metadata": {},
     "output_type": "execute_result"
    }
   ],
   "source": [
    "# Random Forest Classifier\n",
    "rfc = ensemble.RandomForestClassifier()\n",
    "rfc.fit(train_data,train_Y)\n",
    "print(\"Report:\")\n",
    "y_true, y_pred = test_Y, rfc.predict(test_data)\n",
    "print(classification_report(y_true, y_pred))\n",
    "confusion_matrix(y_true, y_pred)"
   ]
  },
  {
   "cell_type": "code",
   "execution_count": 21,
   "metadata": {},
   "outputs": [
    {
     "name": "stdout",
     "output_type": "stream",
     "text": [
      "\n",
      "Each Cross Validated Accuracy: \n",
      " [0.92074199 0.84067797 0.91666667 0.87414966 0.89455782]\n",
      "\n",
      "Overall Random Forest Classifier Accuracy: 0.89 (+/- 0.06)\n",
      "\n"
     ]
    }
   ],
   "source": [
    "RFC_score = cross_val_score(rfc, test_data,test_Y, cv=5)\n",
    "print('\\nEach Cross Validated Accuracy: \\n', RFC_score)\n",
    "print(\"\\nOverall Random Forest Classifier Accuracy: %0.2f (+/- %0.2f)\\n\" % (RFC_score.mean(), RFC_score.std() * 2))"
   ]
  },
  {
   "cell_type": "code",
   "execution_count": 22,
   "metadata": {
    "scrolled": true
   },
   "outputs": [],
   "source": [
    "# Saving the feature names\n",
    "feature_list = list(test_data.columns)\n",
    "# Get numerical feature importances\n",
    "importances = list(rfc.feature_importances_)\n",
    "# List of tuples with variable and importance\n",
    "feature_importances = [(feature, round(importance, 2)) for feature, importance in zip(feature_list, importances)]\n",
    "# Sort the feature importances by most important first\n",
    "feature_importances = sorted(feature_importances, key = lambda x: x[1], reverse = True)\n",
    "# Print out the feature and importances \n",
    "#[print('Variable: {:20} Importance: {}'.format(*pair)) for pair in feature_importances];"
   ]
  },
  {
   "cell_type": "code",
   "execution_count": 23,
   "metadata": {},
   "outputs": [],
   "source": [
    "feature_importances = feature_importances[:20]\n",
    "importance = []\n",
    "importance_name = []\n",
    "for each in feature_importances:\n",
    "    importance.append(round(each[1], 2))\n",
    "    importance_name.append(each[0])"
   ]
  },
  {
   "cell_type": "code",
   "execution_count": 24,
   "metadata": {},
   "outputs": [
    {
     "data": {
      "text/plain": [
       "[('fBodyAccJerk-bandsEnergy()-1,8', 0.05),\n",
       " ('angle(Y,gravityMean)', 0.05),\n",
       " ('tGravityAcc-mean()-X', 0.03),\n",
       " ('tGravityAcc-mean()-Y', 0.03),\n",
       " ('tGravityAcc-max()-X', 0.03),\n",
       " ('tGravityAcc-max()-Y', 0.03),\n",
       " ('tGravityAcc-min()-Y', 0.03),\n",
       " ('tGravityAcc-energy()-X', 0.03),\n",
       " ('tBodyAccMag-std()', 0.03),\n",
       " ('tBodyAcc-mad()-X', 0.02),\n",
       " ('tBodyAcc-max()-X', 0.02),\n",
       " ('tBodyAcc-iqr()-X', 0.02),\n",
       " ('tGravityAcc-energy()-Y', 0.02),\n",
       " ('tGravityAcc-energy()-Z', 0.02),\n",
       " ('tGravityAcc-arCoeff()-Z,2', 0.02),\n",
       " ('tBodyAccJerk-entropy()-X', 0.02),\n",
       " ('tBodyGyroJerk-sma()', 0.02),\n",
       " ('tBodyGyroJerk-iqr()-Z', 0.02),\n",
       " ('tGravityAccMag-std()', 0.02),\n",
       " ('tBodyGyroJerkMag-sma()', 0.02)]"
      ]
     },
     "execution_count": 24,
     "metadata": {},
     "output_type": "execute_result"
    }
   ],
   "source": [
    "feature_importances"
   ]
  },
  {
   "cell_type": "code",
   "execution_count": 27,
   "metadata": {
    "scrolled": false
   },
   "outputs": [
    {
     "data": {
      "image/png": "[encoded data removed]",
      "text/plain": [
       "<matplotlib.figure.Figure at 0x107b1d780>"
      ]
     },
     "metadata": {},
     "output_type": "display_data"
    }
   ],
   "source": [
    "# take the top 20 most important features\n",
    "sorted_idx = np.argsort(feature_importances)\n",
    "pos = np.arange(sorted_idx.shape[0]) + .5\n",
    "plt.subplot(1, 2, 2)\n",
    "plt.barh(pos, importance, align='center')\n",
    "plt.yticks(pos, importance_name)\n",
    "plt.xlabel('Importance')\n",
    "plt.title('RF Variable Importance')\n",
    "plt.show()"
   ]
  },
  {
   "cell_type": "markdown",
   "metadata": {},
   "source": [
    "## Gradient Boosting Classifier"
   ]
  },
  {
   "cell_type": "code",
   "execution_count": 28,
   "metadata": {},
   "outputs": [
    {
     "data": {
      "text/plain": [
       "GradientBoostingClassifier(criterion='friedman_mse', init=None,\n",
       "              learning_rate=0.1, loss='deviance', max_depth=3,\n",
       "              max_features=None, max_leaf_nodes=None,\n",
       "              min_impurity_decrease=0.0, min_impurity_split=None,\n",
       "              min_samples_leaf=1, min_samples_split=2,\n",
       "              min_weight_fraction_leaf=0.0, n_estimators=100,\n",
       "              presort='auto', random_state=None, subsample=1.0, verbose=0,\n",
       "              warm_start=False)"
      ]
     },
     "execution_count": 28,
     "metadata": {},
     "output_type": "execute_result"
    }
   ],
   "source": [
    "# Initialize and fit the model.\n",
    "clf = ensemble.GradientBoostingClassifier(loss = 'deviance')\n",
    "clf.fit(train_data,train_Y)"
   ]
  },
  {
   "cell_type": "code",
   "execution_count": 29,
   "metadata": {
    "scrolled": true
   },
   "outputs": [
    {
     "name": "stdout",
     "output_type": "stream",
     "text": [
      "Report:\n",
      "                    precision    recall  f1-score   support\n",
      "\n",
      "            LAYING       1.00      1.00      1.00       537\n",
      "           SITTING       0.93      0.85      0.89       491\n",
      "          STANDING       0.88      0.94      0.91       532\n",
      "           WALKING       0.94      0.98      0.96       496\n",
      "WALKING_DOWNSTAIRS       0.98      0.92      0.95       420\n",
      "  WALKING_UPSTAIRS       0.93      0.94      0.93       471\n",
      "\n",
      "       avg / total       0.94      0.94      0.94      2947\n",
      "\n"
     ]
    },
    {
     "data": {
      "text/plain": [
       "array([[537,   0,   0,   0,   0,   0],\n",
       "       [  0, 418,  70,   0,   0,   3],\n",
       "       [  0,  32, 500,   0,   0,   0],\n",
       "       [  0,   0,   0, 486,   4,   6],\n",
       "       [  0,   0,   0,   7, 387,  26],\n",
       "       [  0,   1,   0,  24,   5, 441]])"
      ]
     },
     "execution_count": 29,
     "metadata": {},
     "output_type": "execute_result"
    }
   ],
   "source": [
    "print(\"Report:\")\n",
    "y_true, y_pred = test_Y, clf.predict(test_data)\n",
    "print(classification_report(y_true, y_pred))\n",
    "confusion_matrix(y_true, y_pred)"
   ]
  },
  {
   "cell_type": "code",
   "execution_count": 30,
   "metadata": {},
   "outputs": [
    {
     "name": "stdout",
     "output_type": "stream",
     "text": [
      "\n",
      "Each Cross Validated Accuracy: \n",
      " [0.92242833 0.83898305 0.96428571 0.91326531 0.96938776]\n",
      "\n",
      "Overall Gradient Boosted Classifier Accuracy: 0.92 (+/- 0.09)\n",
      "\n"
     ]
    }
   ],
   "source": [
    "CLF_score = cross_val_score(clf, test_data, test_Y, cv=5)\n",
    "print('\\nEach Cross Validated Accuracy: \\n', CLF_score)\n",
    "print(\"\\nOverall Gradient Boosted Classifier Accuracy: %0.2f (+/- %0.2f)\\n\" % (CLF_score.mean(), CLF_score.std() * 2))"
   ]
  },
  {
   "cell_type": "code",
   "execution_count": 31,
   "metadata": {},
   "outputs": [],
   "source": [
    "# Saving the feature names\n",
    "feature_list = list(test_data.columns)\n",
    "# Get numerical feature importances\n",
    "importances = list(clf.feature_importances_)\n",
    "# List of tuples with variable and importance\n",
    "feature_importances = [(feature, round(importance, 2)) for feature, importance in zip(feature_list, importances)]\n",
    "# Sort the feature importances by most important first\n",
    "feature_importances = sorted(feature_importances, key = lambda x: x[1], reverse = True)\n",
    "# Print out the feature and importances \n",
    "#[print('Variable: {:20} Importance: {}'.format(*pair)) for pair in feature_importances];"
   ]
  },
  {
   "cell_type": "code",
   "execution_count": 32,
   "metadata": {},
   "outputs": [],
   "source": [
    "feature_importances = feature_importances[:20]\n",
    "importance = []\n",
    "importance_list = []\n",
    "for each in feature_importances:\n",
    "    importance.append(round(each[1], 2))\n",
    "    importance_list.append(each[0])"
   ]
  },
  {
   "cell_type": "code",
   "execution_count": 33,
   "metadata": {},
   "outputs": [
    {
     "data": {
      "text/plain": [
       "[('tGravityAcc-min()-X', 0.1),\n",
       " ('tGravityAcc-energy()-Y', 0.04),\n",
       " ('tGravityAcc-max()-Z', 0.03),\n",
       " ('fBodyAcc-bandsEnergy()-1,8', 0.03),\n",
       " ('tBodyAcc-correlation()-X,Y', 0.02),\n",
       " ('tGravityAcc-max()-Y', 0.02),\n",
       " ('tGravityAcc-min()-Y', 0.02),\n",
       " ('fBodyGyro-maxInds-Z', 0.02),\n",
       " ('tBodyAcc-max()-X', 0.01),\n",
       " ('tBodyAcc-entropy()-X', 0.01),\n",
       " ('tGravityAcc-mean()-Y', 0.01),\n",
       " ('tGravityAcc-mean()-Z', 0.01),\n",
       " ('tGravityAcc-min()-Z', 0.01),\n",
       " ('tGravityAcc-sma()', 0.01),\n",
       " ('tGravityAcc-arCoeff()-X,1', 0.01),\n",
       " ('tBodyAccJerk-max()-X', 0.01),\n",
       " ('tBodyAccJerk-max()-Z', 0.01),\n",
       " ('tBodyAccJerk-entropy()-X', 0.01),\n",
       " ('tBodyAccJerk-entropy()-Z', 0.01),\n",
       " ('tBodyGyro-max()-X', 0.01)]"
      ]
     },
     "execution_count": 33,
     "metadata": {},
     "output_type": "execute_result"
    }
   ],
   "source": [
    "feature_importances"
   ]
  },
  {
   "cell_type": "code",
   "execution_count": 34,
   "metadata": {},
   "outputs": [
    {
     "data": {
      "image/png": "[encoded data removed]",
      "text/plain": [
       "<matplotlib.figure.Figure at 0x10e9239b0>"
      ]
     },
     "metadata": {},
     "output_type": "display_data"
    }
   ],
   "source": [
    "sorted_idx = np.argsort(feature_importances)\n",
    "pos = np.arange(sorted_idx.shape[0]) + .5\n",
    "plt.subplot(1, 2, 2)\n",
    "plt.barh(pos, importance, align='center')\n",
    "plt.yticks(pos, importance_list)\n",
    "plt.xlabel('Importance')\n",
    "plt.title('CLF Variable Importance')\n",
    "plt.show()"
   ]
  },
  {
   "cell_type": "markdown",
   "metadata": {},
   "source": [
    "## Support Vector Classifier"
   ]
  },
  {
   "cell_type": "code",
   "execution_count": 35,
   "metadata": {},
   "outputs": [
    {
     "data": {
      "text/plain": [
       "SVC(C=1.0, cache_size=200, class_weight=None, coef0=0.0,\n",
       "  decision_function_shape='ovr', degree=3, gamma='auto', kernel='linear',\n",
       "  max_iter=-1, probability=False, random_state=None, shrinking=True,\n",
       "  tol=0.001, verbose=False)"
      ]
     },
     "execution_count": 35,
     "metadata": {},
     "output_type": "execute_result"
    }
   ],
   "source": [
    "svc = SVC(kernel='linear')\n",
    "svc.fit(train_data,train_Y)"
   ]
  },
  {
   "cell_type": "code",
   "execution_count": 36,
   "metadata": {},
   "outputs": [
    {
     "name": "stdout",
     "output_type": "stream",
     "text": [
      "Report:\n",
      "                    precision    recall  f1-score   support\n",
      "\n",
      "            LAYING       1.00      1.00      1.00       537\n",
      "           SITTING       0.96      0.89      0.92       491\n",
      "          STANDING       0.91      0.97      0.94       532\n",
      "           WALKING       0.96      0.99      0.97       496\n",
      "WALKING_DOWNSTAIRS       0.99      0.98      0.98       420\n",
      "  WALKING_UPSTAIRS       0.98      0.96      0.97       471\n",
      "\n",
      "       avg / total       0.96      0.96      0.96      2947\n",
      "\n"
     ]
    },
    {
     "data": {
      "text/plain": [
       "array([[537,   0,   0,   0,   0,   0],\n",
       "       [  0, 435,  54,   0,   0,   2],\n",
       "       [  0,  16, 516,   0,   0,   0],\n",
       "       [  0,   0,   0, 492,   3,   1],\n",
       "       [  0,   0,   0,   4, 410,   6],\n",
       "       [  0,   0,   0,  18,   2, 451]])"
      ]
     },
     "execution_count": 36,
     "metadata": {},
     "output_type": "execute_result"
    }
   ],
   "source": [
    "print(\"Report:\")\n",
    "y_true, y_pred = test_Y, svc.predict(test_data)\n",
    "print(classification_report(y_true, y_pred))\n",
    "confusion_matrix(y_true, y_pred)"
   ]
  },
  {
   "cell_type": "code",
   "execution_count": 37,
   "metadata": {},
   "outputs": [
    {
     "name": "stdout",
     "output_type": "stream",
     "text": [
      "\n",
      "Each Cross Validated Accuracy: \n",
      " [0.97133221 0.86779661 0.94387755 0.93367347 0.93367347]\n",
      "\n",
      "Overall Support Vector Classifier Accuracy: 0.93 (+/- 0.07)\n",
      "\n"
     ]
    }
   ],
   "source": [
    "SVC_score = cross_val_score(svc, test_data, test_Y, cv=5)\n",
    "print('\\nEach Cross Validated Accuracy: \\n', SVC_score)\n",
    "print(\"\\nOverall Support Vector Classifier Accuracy: %0.2f (+/- %0.2f)\\n\" % (SVC_score.mean(), SVC_score.std() * 2))"
   ]
  },
  {
   "cell_type": "markdown",
   "metadata": {
    "collapsed": true
   },
   "source": [
    "# Conclusion"
   ]
  },
  {
   "cell_type": "markdown",
   "metadata": {},
   "source": [
    "- Can the activity of a individual be accurately predicted from a smart phone's internal sensors?\n",
    "- What variables are most important for a model to predict activity with a smart phone?\n",
    "- Which model most accurately predicts activity with a smart phone?"
   ]
  },
  {
   "cell_type": "markdown",
   "metadata": {},
   "source": [
    "This Capstone project provided a good but challenging opportunity to delve into a Human Activity Recognition dataset. I see this dataset and challenge as very applicable to many industries that are wanting to track human activity while also allowing for more sophisticated models to be created in the future. To return to my goals for this project, the Support Vector Classifier was able to achieve an R-squared values of 0.93 for predicting human activity from a smart phone's internal sensors.\n",
    "\n",
    "The Support Vector Machine is very versatile and great as a classifier but it comes at the cost of explaining which features are most important in my dataset. So if my goal was to only create a model with very accurate predictions, I would choose the SVM because it was able to achieve the highest average accuracy of 0.96. If however I want a more explanatory model, the Gradient Boosting and Random Forest Classifiers are possible options. While both of these models are still less informative than a logistic regression model would be, they gave me overall accurate predictions and some information about which variables are most important for predicting the outcome. For instance, the three most commonly used features for both the Gradient Boosting and Random Forest models were about Gravity Acceleration. \n",
    "    \n",
    "If I had more time on the project I would focus on optimizing my dataset because there are so many features. I would also want to create more explanatory models because this could help data scientist and engineers design better machines and models that focus on these important distinctions between activities."
   ]
  }
 ],
 "metadata": {
  "kernelspec": {
   "display_name": "Python 3",
   "language": "python",
   "name": "python3"
  },
  "language_info": {
   "codemirror_mode": {
    "name": "ipython",
    "version": 3
   },
   "file_extension": ".py",
   "mimetype": "text/x-python",
   "name": "python",
   "nbconvert_exporter": "python",
   "pygments_lexer": "ipython3",
   "version": "3.6.5"
  }
 },
 "nbformat": 4,
 "nbformat_minor": 2
}
